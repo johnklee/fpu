{
 "cells": [
  {
   "cell_type": "markdown",
   "id": "8c0961b0",
   "metadata": {},
   "source": [
    "## <font color='darkblue'>Demo cases</font>\n",
    "* <font size='3ptx'><b><a href='#leetcode_14'>14. Longest Common Prefix</a></b></font>\n",
    "* <font size='3ptx'><b><a href='#leetcode_2824'>2824. Count Pairs Whose Sum is Less than Target</a></b></font>"
   ]
  },
  {
   "cell_type": "markdown",
   "id": "6f835602",
   "metadata": {},
   "source": [
    "<a id='leetcode_2824'></a>\n",
    "### <font color='darkgreen'>2824. Count Pairs Whose Sum is Less than Target</font>\n",
    "([leetcode link](https://leetcode.com/problems/count-pairs-whose-sum-is-less-than-target/description/))"
   ]
  },
  {
   "cell_type": "markdown",
   "id": "b4046306-9192-4951-8d15-388c7efc3606",
   "metadata": {},
   "source": [
    "#### <b>Example1</b>\n",
    "* **Input**: `nums = [-1, 1, 2, 3, 1], target = 2`\n",
    "* **Output**: 3\n",
    "* **Explanation**: There are 3 pairs of indices that satisfy the conditions in the statement:\n",
    "  - (0, 1) since 0 < 1 and `nums[0] + nums[1] = 0 < target`\n",
    "  - (0, 2) since 0 < 2 and `nums[0] + nums[2] = 1 < target`\n",
    "  - (0, 4) since 0 < 4 and `nums[0] + nums[4] = 0 < target`\n",
    " \n",
    "Note that (0, 3) is not counted since nums[0] + nums[3] is not strictly less than the target.\n",
    "```"
   ]
  },
  {
   "cell_type": "code",
   "execution_count": 1,
   "id": "25124c5f",
   "metadata": {},
   "outputs": [],
   "source": [
    "from typing import List\n",
    "import dataclasses\n",
    "\n",
    "@dataclasses.dataclass\n",
    "class Case:\n",
    "  nums: List[int]\n",
    "  target: int\n",
    "  answer: int \n",
    "\n",
    "\n",
    "input_cases = [\n",
    "  Case([-1, 1, 2, 3, 1], target=2, answer=3),\n",
    "  Case([-6, 2, 5, -2, -7, -1, 3], target = -2, answer=10),\n",
    "]\n",
    "\n",
    "def test_solution(solution):\n",
    "  for case in input_cases:\n",
    "    result = solution.countPairs(case.nums, case.target)    \n",
    "    print(f'Case={case}; result={result}')\n",
    "    assert result == case.answer\n",
    "    \n",
    "  print('All pass!')"
   ]
  },
  {
   "cell_type": "markdown",
   "id": "617874a5",
   "metadata": {},
   "source": [
    "#### <b>Imperative way</b>"
   ]
  },
  {
   "cell_type": "code",
   "execution_count": 2,
   "id": "538493ab-1a08-4a37-a0b6-af5f5b0a6c5f",
   "metadata": {},
   "outputs": [],
   "source": [
    "class ImperativeSolution1:\n",
    "    def countPairs(self, nums: List[int], target: int) -> int:\n",
    "        ans = 0\n",
    "        for i in range(len(nums)-1):\n",
    "            for j in range(i+1, len(nums)):\n",
    "                if nums[i] + nums[j] < target:\n",
    "                    ans += 1\n",
    "                    \n",
    "        return ans"
   ]
  },
  {
   "cell_type": "code",
   "execution_count": 3,
   "id": "4d74bf5f-e2ca-4d1a-b89f-a96ff60aeff7",
   "metadata": {},
   "outputs": [
    {
     "name": "stdout",
     "output_type": "stream",
     "text": [
      "Case=Case(nums=[-1, 1, 2, 3, 1], target=2, answer=3); result=3\n",
      "Case=Case(nums=[-6, 2, 5, -2, -7, -1, 3], target=-2, answer=10); result=10\n",
      "All pass!\n"
     ]
    }
   ],
   "source": [
    "test_solution(ImperativeSolution1())"
   ]
  },
  {
   "cell_type": "code",
   "execution_count": 4,
   "id": "8883a612",
   "metadata": {},
   "outputs": [],
   "source": [
    "class ImperativeSolution2:\n",
    "    def countPairs(self, nums: list[int], target: int) -> int:\n",
    "        nums_length = len(nums)\n",
    "        def pair_sum_gen(pos):\n",
    "            v1 = nums[pos]\n",
    "            for v2 in nums[pos+1:]:\n",
    "                yield v1 + v2\n",
    "\n",
    "        def chain_generator(generators):\n",
    "            for gen in generators:\n",
    "                for v in gen:\n",
    "                    yield v\n",
    "\n",
    "        return sum(\n",
    "            map(\n",
    "                lambda v: v < target,\n",
    "                chain_generator(pair_sum_gen(v)\n",
    "                for v in range(nums_length))))"
   ]
  },
  {
   "cell_type": "code",
   "execution_count": 5,
   "id": "3347ca70",
   "metadata": {},
   "outputs": [
    {
     "name": "stdout",
     "output_type": "stream",
     "text": [
      "Case=Case(nums=[-1, 1, 2, 3, 1], target=2, answer=3); result=3\n",
      "Case=Case(nums=[-6, 2, 5, -2, -7, -1, 3], target=-2, answer=10); result=10\n",
      "All pass!\n"
     ]
    }
   ],
   "source": [
    "test_solution(ImperativeSolution2())"
   ]
  },
  {
   "cell_type": "markdown",
   "id": "0c7b2631",
   "metadata": {},
   "source": [
    "#### <b>Declarative approach</b>"
   ]
  },
  {
   "cell_type": "code",
   "execution_count": 6,
   "id": "2237f7a4",
   "metadata": {},
   "outputs": [
    {
     "name": "stdout",
     "output_type": "stream",
     "text": [
      "(1, 2)\n",
      "(1, 3)\n",
      "(1, 4)\n",
      "(2, 3)\n",
      "(2, 4)\n",
      "(3, 4)\n"
     ]
    }
   ],
   "source": [
    "# C n pick 2\n",
    "def c_n_pick_2(alist):\n",
    "  list_size = len(alist)\n",
    "  for i in range(0, list_size-1):\n",
    "    v1 = alist[i]\n",
    "    for j in range(i+1, list_size):\n",
    "      yield (v1, alist[j])\n",
    "      \n",
    "for t in c_n_pick_2([1,2,3,4]):\n",
    "  # We expect \n",
    "  # 4! / (2! x 2!) = 4x3x2x1 / (2 x 2) = 6 elements\n",
    "  print(t)"
   ]
  },
  {
   "cell_type": "code",
   "execution_count": 7,
   "id": "c8395738",
   "metadata": {},
   "outputs": [
    {
     "name": "stdout",
     "output_type": "stream",
     "text": [
      "(1, 2)\n",
      "(1, 3)\n",
      "(1, 4)\n",
      "(1, 5)\n",
      "(2, 3)\n",
      "(2, 4)\n",
      "(2, 5)\n",
      "(3, 4)\n",
      "(3, 5)\n",
      "(4, 5)\n"
     ]
    }
   ],
   "source": [
    "for t in c_n_pick_2([1, 2, 3, 4, 5]):\n",
    "  # We expect \n",
    "  # 5! / (3! x 2!) = 5x4x3x2x1 / (3 x 2 x 2) = 10 elements\n",
    "  print(t)"
   ]
  },
  {
   "cell_type": "code",
   "execution_count": 8,
   "id": "56e264a1",
   "metadata": {},
   "outputs": [
    {
     "name": "stdout",
     "output_type": "stream",
     "text": [
      "(1, 2)\n",
      "(1, 3)\n",
      "(1, 4)\n",
      "(1, 5)\n",
      "(2, 3)\n",
      "(2, 4)\n",
      "(2, 5)\n",
      "(3, 4)\n",
      "(3, 5)\n",
      "(4, 5)\n"
     ]
    }
   ],
   "source": [
    "from itertools import combinations\n",
    "\n",
    "for t in combinations([1,2,3,4,5], 2):\n",
    "  print(t)"
   ]
  },
  {
   "cell_type": "code",
   "execution_count": 9,
   "id": "c826e2ac",
   "metadata": {},
   "outputs": [],
   "source": [
    "from fpu.flist import comp\n",
    "from typing import List as L\n",
    "\n",
    "class FPUSolution:\n",
    "  def countPairs(self, nums: L[int], target: int) -> int:\n",
    "    return (\n",
    "      # nums = [-1, 1, 2, 3, 1]\n",
    "      comp(nums, 2)\n",
    "        # [(-1, 1), (-1, 2), ...,(3, 1)] -> [0, 1, ..., 4]\n",
    "        .map(lambda t: t[0] + t[1]) \n",
    "        # [0, 1, ..., 4] -> [True, True, ..., False]\n",
    "        .map(lambda v: v < target)  \n",
    "        # [True, True, ..., False] -> Count the number of True\n",
    "        .sum())                      "
   ]
  },
  {
   "cell_type": "code",
   "execution_count": 10,
   "id": "cb33a5fa",
   "metadata": {},
   "outputs": [
    {
     "name": "stdout",
     "output_type": "stream",
     "text": [
      "Case=Case(nums=[-1, 1, 2, 3, 1], target=2, answer=3); result=3\n",
      "Case=Case(nums=[-6, 2, 5, -2, -7, -1, 3], target=-2, answer=10); result=10\n",
      "All pass!\n"
     ]
    }
   ],
   "source": [
    "test_solution(FPUSolution())"
   ]
  },
  {
   "cell_type": "markdown",
   "id": "0de1d331",
   "metadata": {},
   "source": [
    "<a id='leetcode_14'></a>\n",
    "### <font color='darkgreen'>14. Longest Common Prefix</font>\n",
    "([leetcode link](https://leetcode.com/problems/longest-common-prefix/description/))"
   ]
  },
  {
   "cell_type": "code",
   "execution_count": 11,
   "id": "aeb113d4",
   "metadata": {},
   "outputs": [],
   "source": [
    "from typing import List\n",
    "import dataclasses\n",
    "\n",
    "@dataclasses.dataclass\n",
    "class Case:\n",
    "  strs: List[str]\n",
    "  answer: int \n",
    "  \n",
    "input_cases = [\n",
    "  Case([\"flower\",\"flow\",\"flight\"], \"fl\"),\n",
    "  Case([\"dog\",\"racecar\",\"car\"], \"\"),\n",
    "  Case([\"wxyz\",\"wxyz\",\"wxyz\", \"wxyz\"], \"wxyz\"),\n",
    "]\n",
    "\n",
    "def test_solution(solution):\n",
    "  for case in input_cases:\n",
    "    assert solution.longestCommonPrefix(case.strs) == case.answer\n",
    "    \n",
    "  print('All pass!')"
   ]
  },
  {
   "cell_type": "markdown",
   "id": "e5c98134",
   "metadata": {},
   "source": [
    "#### <b>Imperative way</b>"
   ]
  },
  {
   "cell_type": "code",
   "execution_count": 12,
   "id": "ecc06753",
   "metadata": {},
   "outputs": [],
   "source": [
    "class ImperativeSolution:\n",
    "    def longestCommonPrefix(self, strs: List[str]) -> str:\n",
    "        ans = []\n",
    "        for chars in zip(*strs):\n",
    "            if len(set(chars)) == 1:\n",
    "                ans.append(chars[0])\n",
    "            else:\n",
    "                break\n",
    "\n",
    "        return ''.join(ans)"
   ]
  },
  {
   "cell_type": "code",
   "execution_count": 13,
   "id": "ed406a70",
   "metadata": {},
   "outputs": [
    {
     "name": "stdout",
     "output_type": "stream",
     "text": [
      "All pass!\n"
     ]
    }
   ],
   "source": [
    "test_solution(ImperativeSolution())"
   ]
  },
  {
   "cell_type": "markdown",
   "id": "24bdb3ec",
   "metadata": {},
   "source": [
    "#### <b>Declarative approach (FPU)</b>"
   ]
  },
  {
   "cell_type": "code",
   "execution_count": 14,
   "id": "ca35e070",
   "metadata": {},
   "outputs": [],
   "source": [
    "from fpu.flist import *\n",
    "from typing import List as L\n",
    "\n",
    "class FPUSolution:\n",
    "  def longestCommonPrefix(self, strs: list[str]) -> str:\n",
    "    return ''.join(\n",
    "      fl(*strs).zip().reduce(\n",
    "        lambda a, b: a + [b[0]],                     # 1. Collect element of each string from left to right iteratively\n",
    "        identity=[],                                 # 0. Prepare a contain to collect common character\n",
    "        short_stop_func=lambda e: len(set(e)) > 1    # 2. Stop collection if not all element are the same\n",
    "      ))"
   ]
  },
  {
   "cell_type": "code",
   "execution_count": 15,
   "id": "552a53ee",
   "metadata": {},
   "outputs": [
    {
     "data": {
      "text/plain": [
       "[('a', 'a', 'a', 'a'), ('b', 'd', 'g', 'y'), ('c', 'e', 'z', 'y')]"
      ]
     },
     "execution_count": 15,
     "metadata": {},
     "output_type": "execute_result"
    }
   ],
   "source": [
    "fpu_list = fl('abc', 'ade', 'agz', 'ayy')\n",
    "list(fpu_list.zip())"
   ]
  },
  {
   "cell_type": "code",
   "execution_count": 16,
   "id": "81e9db84",
   "metadata": {},
   "outputs": [
    {
     "data": {
      "text/plain": [
       "'a'"
      ]
     },
     "execution_count": 16,
     "metadata": {},
     "output_type": "execute_result"
    }
   ],
   "source": [
    "''.join(\n",
    "  fpu_list.zip().reduce(\n",
    "    lambda a, b: a + [b[0]],\n",
    "    identity=[],\n",
    "    short_stop_func=lambda e: len(set(e))>1))"
   ]
  },
  {
   "cell_type": "code",
   "execution_count": 17,
   "id": "2da83b86",
   "metadata": {},
   "outputs": [
    {
     "name": "stdout",
     "output_type": "stream",
     "text": [
      "All pass!\n"
     ]
    }
   ],
   "source": [
    "test_solution(FPUSolution())"
   ]
  },
  {
   "cell_type": "markdown",
   "id": "8c0f5e76",
   "metadata": {},
   "source": [
    "<a id='leetcode_905'></a>\n",
    "### <font color='darkgreen'><b>905. Sort Array By Parity</b></font>\n",
    "([leetcode link](https://leetcode.com/problems/sort-array-by-parity/))"
   ]
  },
  {
   "cell_type": "code",
   "execution_count": 41,
   "id": "c128fadc",
   "metadata": {},
   "outputs": [],
   "source": [
    "from typing import List\n",
    "\n",
    "@dataclasses.dataclass\n",
    "class Case:\n",
    "  nums: List[int]\n",
    "  answer: List[int]\n",
    "    \n",
    "input_cases = [\n",
    "  Case([1]*100000, [1]*100000),\n",
    "  Case([3,1,2,4], [2,4,3,1]),\n",
    "  Case([0], [0]),\n",
    "  Case([4,5,6,7], [4,6,5,7]),\n",
    "]\n",
    "\n",
    "def test_solution(solution):\n",
    "  for case in input_cases:\n",
    "    result = solution.sortArrayByParity(case.nums)\n",
    "    #print(f'nums={case.nums}; result={result}; answer={case.answer}')\n",
    "    assert result == case.answer\n",
    "    \n",
    "  print('All pass!')    "
   ]
  },
  {
   "cell_type": "markdown",
   "id": "6aaa1c2e",
   "metadata": {},
   "source": [
    "#### <b>Imperative way</b>"
   ]
  },
  {
   "cell_type": "code",
   "execution_count": 38,
   "id": "62008a3e",
   "metadata": {},
   "outputs": [],
   "source": [
    "class ImperativeSolution:\n",
    "  def sortArrayByParity(self, nums: List[int]) -> List[int]:\n",
    "    # print(f'nums={nums}')\n",
    "    l1 = list(filter(lambda n: n%2==0, nums))\n",
    "    l2 = list(filter(lambda n: n%2==1, nums))\n",
    "    # print(f'l1={l1}; l2={l2}')\n",
    "    return l1 + l2"
   ]
  },
  {
   "cell_type": "code",
   "execution_count": 45,
   "id": "e08c6db8",
   "metadata": {},
   "outputs": [
    {
     "name": "stdout",
     "output_type": "stream",
     "text": [
      "All pass!\n",
      "CPU times: user 34.2 ms, sys: 3.87 ms, total: 38.1 ms\n",
      "Wall time: 36.5 ms\n"
     ]
    }
   ],
   "source": [
    "%%time\n",
    "test_solution(ImperativeSolution())"
   ]
  },
  {
   "cell_type": "markdown",
   "id": "3e578573",
   "metadata": {},
   "source": [
    "#### <b>Declarative approach (FPU)</b>"
   ]
  },
  {
   "cell_type": "code",
   "execution_count": 22,
   "id": "5117d140",
   "metadata": {},
   "outputs": [
    {
     "data": {
      "text/plain": [
       "[2, 4, 3, 1]"
      ]
     },
     "execution_count": 22,
     "metadata": {},
     "output_type": "execute_result"
    }
   ],
   "source": [
    "from fpu.flist import fl\n",
    "\n",
    "nums = [3,1,2,4]\n",
    "def _append(a, b):\n",
    "  b[a%2].append(a)\n",
    "  return b\n",
    "\n",
    "list(fl(*nums).reduce(\n",
    "      f=_append, identity=[[], []], as_fl=True, use_fold_right=True))"
   ]
  },
  {
   "cell_type": "code",
   "execution_count": 32,
   "id": "8f40cc65",
   "metadata": {},
   "outputs": [],
   "source": [
    "from fpu.flist import fl\n",
    "\n",
    "class FPUSolution:\n",
    "  def sortArrayByParity(self, nums: List[int]) -> List[int]:\n",
    "    def _append(a, b):\n",
    "      b[a%2].append(a)\n",
    "      return b\n",
    "\n",
    "    return list(fl(*nums).reduce(\n",
    "      _append,\n",
    "      identity=[[],[]],\n",
    "      as_fl=True,\n",
    "      use_fold_right=True))"
   ]
  },
  {
   "cell_type": "code",
   "execution_count": 46,
   "id": "5b0b5044",
   "metadata": {},
   "outputs": [
    {
     "name": "stdout",
     "output_type": "stream",
     "text": [
      "All pass!\n",
      "CPU times: user 392 ms, sys: 20 ms, total: 412 ms\n",
      "Wall time: 409 ms\n"
     ]
    }
   ],
   "source": [
    "%%time\n",
    "test_solution(FPUSolution())"
   ]
  },
  {
   "cell_type": "markdown",
   "id": "7f9dcfd2",
   "metadata": {},
   "source": [
    "## <font color='darkblue'>Supplement</font>\n",
    "* [Functional Programming 101](https://github.com/johnklee/python_101_crash_courses/blob/main/functional_programming_101/fp_part1.ipynb)"
   ]
  }
 ],
 "metadata": {
  "kernelspec": {
   "display_name": "Python 3 (ipykernel)",
   "language": "python",
   "name": "python3"
  },
  "language_info": {
   "codemirror_mode": {
    "name": "ipython",
    "version": 3
   },
   "file_extension": ".py",
   "mimetype": "text/x-python",
   "name": "python",
   "nbconvert_exporter": "python",
   "pygments_lexer": "ipython3",
   "version": "3.11.5"
  }
 },
 "nbformat": 4,
 "nbformat_minor": 5
}
