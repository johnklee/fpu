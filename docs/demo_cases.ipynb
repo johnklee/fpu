{
 "cells": [
  {
   "cell_type": "markdown",
   "id": "8c0961b0",
   "metadata": {},
   "source": [
    "## <font color='darkblue'>Demo cases</font>"
   ]
  },
  {
   "cell_type": "markdown",
   "id": "6f835602",
   "metadata": {},
   "source": [
    "### <font color='darkgreen'>2824. Count Pairs Whose Sum is Less than Target</font>\n",
    "([leetcode link](https://leetcode.com/problems/count-pairs-whose-sum-is-less-than-target/description/))"
   ]
  },
  {
   "cell_type": "code",
   "execution_count": 1,
   "id": "25124c5f",
   "metadata": {},
   "outputs": [],
   "source": [
    "from typing import List\n",
    "import dataclasses\n",
    "\n",
    "@dataclasses.dataclass\n",
    "class Case:\n",
    "  nums: List[int]\n",
    "  target: int\n",
    "  answer: int \n",
    "  \n",
    "input_cases = [\n",
    "  Case([-1,1,2,3,1], 2, 3),\n",
    "  Case([-6,2,5,-2,-7,-1,3], target = -2, answer=10),\n",
    "]\n",
    "\n",
    "def test_solution(solution):\n",
    "  for case in input_cases:\n",
    "    assert solution.countPairs(case.nums, case.target) == case.answer\n",
    "    \n",
    "  print('All pass!')"
   ]
  },
  {
   "cell_type": "markdown",
   "id": "617874a5",
   "metadata": {},
   "source": [
    "#### <b>Imperative way</b>"
   ]
  },
  {
   "cell_type": "code",
   "execution_count": 2,
   "id": "8883a612",
   "metadata": {},
   "outputs": [],
   "source": [
    "class ImperativeSolution:\n",
    "    def countPairs(self, nums: List[int], target: int) -> int:\n",
    "        nums_length = len(nums)\n",
    "        def pair_gen(pos):\n",
    "            v1 = nums[pos]\n",
    "            for v2 in nums[pos+1:]:\n",
    "                yield v1 + v2\n",
    "\n",
    "        def chain_generator(generators):\n",
    "            for gen in generators:\n",
    "                for v in gen:\n",
    "                    yield v\n",
    "\n",
    "        return sum(\n",
    "            map(\n",
    "                lambda v: v < target,\n",
    "                chain_generator(pair_gen(v) for v in range(nums_length))))"
   ]
  },
  {
   "cell_type": "code",
   "execution_count": 3,
   "id": "3347ca70",
   "metadata": {},
   "outputs": [
    {
     "name": "stdout",
     "output_type": "stream",
     "text": [
      "All pass!\n"
     ]
    }
   ],
   "source": [
    "test_solution(ImperativeSolution())"
   ]
  },
  {
   "cell_type": "markdown",
   "id": "0c7b2631",
   "metadata": {},
   "source": [
    "#### <b>Declarative approach</b>"
   ]
  },
  {
   "cell_type": "code",
   "execution_count": 4,
   "id": "2237f7a4",
   "metadata": {},
   "outputs": [
    {
     "name": "stdout",
     "output_type": "stream",
     "text": [
      "(1, 2)\n",
      "(1, 3)\n",
      "(1, 4)\n",
      "(2, 3)\n",
      "(2, 4)\n",
      "(3, 4)\n"
     ]
    }
   ],
   "source": [
    "# C n pick m\n",
    "def c_n_pick_m(alist):\n",
    "  list_size = len(alist)\n",
    "  for i in range(0, list_size-1):\n",
    "    v1 = alist[i]\n",
    "    for j in range(i+1, list_size):\n",
    "      yield (v1, alist[j])\n",
    "      \n",
    "for t in c_n_pick_m([1,2,3,4]):\n",
    "  # We expect \n",
    "  # 4! / (2! x 2!) = 4x3x2x1 / (2 x 2) = 6 elements\n",
    "  print(t)"
   ]
  },
  {
   "cell_type": "code",
   "execution_count": 5,
   "id": "c8395738",
   "metadata": {},
   "outputs": [
    {
     "name": "stdout",
     "output_type": "stream",
     "text": [
      "(1, 2)\n",
      "(1, 3)\n",
      "(1, 4)\n",
      "(1, 5)\n",
      "(2, 3)\n",
      "(2, 4)\n",
      "(2, 5)\n",
      "(3, 4)\n",
      "(3, 5)\n",
      "(4, 5)\n"
     ]
    }
   ],
   "source": [
    "for t in c_n_pick_m([1,2,3,4,5]):\n",
    "  # We expect \n",
    "  # 5! / (3! x 2!) = 5x4x3x2x1 / (3 x 2 x 2) = 10 elements\n",
    "  print(t)"
   ]
  },
  {
   "cell_type": "code",
   "execution_count": 6,
   "id": "56e264a1",
   "metadata": {},
   "outputs": [
    {
     "name": "stdout",
     "output_type": "stream",
     "text": [
      "(1, 2)\n",
      "(1, 3)\n",
      "(1, 4)\n",
      "(1, 5)\n",
      "(2, 3)\n",
      "(2, 4)\n",
      "(2, 5)\n",
      "(3, 4)\n",
      "(3, 5)\n",
      "(4, 5)\n"
     ]
    }
   ],
   "source": [
    "from itertools import combinations\n",
    "\n",
    "for t in combinations([1,2,3,4,5], 2):\n",
    "  print(t)"
   ]
  },
  {
   "cell_type": "code",
   "execution_count": 18,
   "id": "c826e2ac",
   "metadata": {},
   "outputs": [],
   "source": [
    "from fpu.flist import *\n",
    "from typing import List as L\n",
    "\n",
    "class FPUSolution:\n",
    "  def countPairs(self, nums: L[int], target: int) -> int:\n",
    "    return (\n",
    "      # nums = [-1, 1, 2, 3, 1]\n",
    "      comp(nums, 2)\n",
    "        # chain_generator(pair_gen(v) for v in range(nums_length)))  # Version 1\n",
    "        # list(combinations(nums, 2)))  # Version 2\n",
    "        .map(lambda t: t[0] + t[1])  # [(-1, 1), (-1, 2), ...,(3, 1)] -> [0, 1, ..., 4]\n",
    "        .map(lambda v: v < target)   # [0, 1, ..., 4] -> [True, True, ..., False]\n",
    "        .sum())                      # [True, True, ..., False] -> Count the number of True"
   ]
  },
  {
   "cell_type": "code",
   "execution_count": 19,
   "id": "cb33a5fa",
   "metadata": {},
   "outputs": [
    {
     "name": "stdout",
     "output_type": "stream",
     "text": [
      "All pass!\n"
     ]
    }
   ],
   "source": [
    "test_solution(FPUSolution())"
   ]
  },
  {
   "cell_type": "markdown",
   "id": "7f9dcfd2",
   "metadata": {},
   "source": [
    "## <font color='darkblue'>Supplement</font>\n",
    "* [Functional Programming 101](https://github.com/johnklee/python_101_crash_courses/blob/main/functional_programming_101/fp_part1.ipynb)"
   ]
  }
 ],
 "metadata": {
  "kernelspec": {
   "display_name": "Python 3 (ipykernel)",
   "language": "python",
   "name": "python3"
  },
  "language_info": {
   "codemirror_mode": {
    "name": "ipython",
    "version": 3
   },
   "file_extension": ".py",
   "mimetype": "text/x-python",
   "name": "python",
   "nbconvert_exporter": "python",
   "pygments_lexer": "ipython3",
   "version": "3.8.10"
  }
 },
 "nbformat": 4,
 "nbformat_minor": 5
}
