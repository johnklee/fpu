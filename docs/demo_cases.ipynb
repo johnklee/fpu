{
 "cells": [
  {
   "cell_type": "markdown",
   "id": "8c0961b0",
   "metadata": {},
   "source": [
    "## <font color='darkblue'>Demo cases</font>\n",
    "* <font size='3ptx'><b><a href='#leetcode_14'>14. Longest Common Prefix</a></b></font>\n",
    "* <font size='3ptx'><b><a href='#leetcode_905'>905. Sort Array By Parity</a></b></font>\n",
    "* <font size='3ptx'><b><a href='#leetcode_2640'>2640. Find the Score of All Prefixes of an Array</a></b></font>\n",
    "* <font size='3ptx'><b><a href='#leetcode_2824'>2824. Count Pairs Whose Sum is Less than Target</a></b></font>\n",
    "* <font size='3ptx'><b><a href='#leetcode_2894'>2894. Divisible and Non-divisible Sums Difference</a></b></font>"
   ]
  },
  {
   "cell_type": "markdown",
   "id": "883eee0f-72d2-4fa0-9f87-717bcda25678",
   "metadata": {},
   "source": [
    "<a id='leetcode_2640'></a>\n",
    "### <b><font color='darkgreen'>2640. Find the Score of All Prefixes of an Array</font></b> ([#21](https://github.com/johnklee/fpu/issues/21))\n",
    "([leetcode link](https://leetcode.com/problems/find-the-score-of-all-prefixes-of-an-array/))"
   ]
  },
  {
   "cell_type": "code",
   "execution_count": 70,
   "id": "2d8d008f-1f81-42ea-9609-6fdca6bfc2b4",
   "metadata": {},
   "outputs": [],
   "source": [
    "from typing import List\n",
    "import dataclasses\n",
    "\n",
    "@dataclasses.dataclass\n",
    "class Case:\n",
    "  nums: List[int]\n",
    "  answer: int \n",
    "\n",
    "\n",
    "input_cases = [\n",
    "  Case([2,3,7,5,10], answer=[4,10,24,36,56]),\n",
    "  Case([1,1,2,4,8,16], answer=[2,4,8,16,32,64]),\n",
    "]\n",
    "\n",
    "def test_solution(solution):\n",
    "  for case in input_cases:\n",
    "    result = solution.findPrefixScore(case.nums)    \n",
    "    print(f'Case={case}; result={result}')\n",
    "    assert result == case.answer\n",
    "    \n",
    "  print('All pass!')"
   ]
  },
  {
   "cell_type": "markdown",
   "id": "a213d71e-15fd-4f31-8b6b-bbcf5746ca33",
   "metadata": {},
   "source": [
    "#### <b>Imperative way</b>"
   ]
  },
  {
   "cell_type": "code",
   "execution_count": 71,
   "id": "ec402659-bffc-473a-a8a3-6a6345071e78",
   "metadata": {},
   "outputs": [],
   "source": [
    "from functools import partial, reduce\n",
    "import numpy as np\n",
    "\n",
    "\n",
    "class ImpSolution:\n",
    "    def findPrefixScore(self, nums: List[int]) -> List[int]:\n",
    "        max_ary = [nums[0]]\n",
    "        def append_list(a, b, ary):\n",
    "            c = max(a, b)\n",
    "            ary.append(c)\n",
    "            return c\n",
    "\n",
    "        max_append = partial(append_list, ary=max_ary)\n",
    "        reduce(max_append, nums)\n",
    "        \n",
    "        conversion_ary = list(map(\n",
    "            lambda t: t[1] + nums[t[0]],\n",
    "            enumerate(max_ary)))\n",
    "        \n",
    "        return np.cumsum(conversion_ary).tolist()"
   ]
  },
  {
   "cell_type": "code",
   "execution_count": 72,
   "id": "e70bc3bb-a4d7-4853-861d-41b7d0cc838f",
   "metadata": {},
   "outputs": [
    {
     "name": "stdout",
     "output_type": "stream",
     "text": [
      "Case=Case(nums=[2, 3, 7, 5, 10], answer=[4, 10, 24, 36, 56]); result=[4, 10, 24, 36, 56]\n",
      "Case=Case(nums=[1, 1, 2, 4, 8, 16], answer=[2, 4, 8, 16, 32, 64]); result=[2, 4, 8, 16, 32, 64]\n",
      "All pass!\n"
     ]
    }
   ],
   "source": [
    "test_solution(ImpSolution())"
   ]
  },
  {
   "cell_type": "markdown",
   "id": "c3f681e5-c8e9-4d64-946f-18271c5c3749",
   "metadata": {},
   "source": [
    "#### <b>FPU supported functions</b>"
   ]
  },
  {
   "cell_type": "code",
   "execution_count": 73,
   "id": "26791bf5-ef1f-4b56-a367-d13527f478f0",
   "metadata": {},
   "outputs": [],
   "source": [
    "from fpu import flist\n",
    "from fpu.flist import fl\n",
    "\n",
    "test_nums = [2, 3, 7, 5, 10]"
   ]
  },
  {
   "cell_type": "markdown",
   "id": "5f0eaa4c-16de-450f-9f3d-f2cf85ff1b39",
   "metadata": {},
   "source": [
    "* `List.map`: Identical to Python built-in [map](https://docs.python.org/3/library/functions.html#map) function."
   ]
  },
  {
   "cell_type": "code",
   "execution_count": 74,
   "id": "4493049a-db8a-4bf5-b7c9-b7063189dbbc",
   "metadata": {},
   "outputs": [
    {
     "data": {
      "text/plain": [
       "[4, 6, 14, 10, 20]"
      ]
     },
     "execution_count": 74,
     "metadata": {},
     "output_type": "execute_result"
    }
   ],
   "source": [
    "# Multiply each element by two\n",
    "list(map(lambda e: e*2, test_nums))"
   ]
  },
  {
   "cell_type": "code",
   "execution_count": 75,
   "id": "a112cb16-68a0-41f8-bda5-aa3aeda4f55a",
   "metadata": {},
   "outputs": [
    {
     "data": {
      "text/plain": [
       "[4, 6, 14, 10, 20]"
      ]
     },
     "execution_count": 75,
     "metadata": {},
     "output_type": "execute_result"
    }
   ],
   "source": [
    "list(fl(test_nums, do_reverse=True).map(lambda e: e*2))"
   ]
  },
  {
   "cell_type": "markdown",
   "id": "b7de2c6e-29a0-47e3-9b25-cfbd80ffe5b7",
   "metadata": {},
   "source": [
    "* `List.reduce`: Identical to [**functools**.reduce](https://docs.python.org/3/library/functools.html#functools.reduce)"
   ]
  },
  {
   "cell_type": "code",
   "execution_count": 76,
   "id": "28836f7f-4cee-415b-bbb5-fe32ef021383",
   "metadata": {},
   "outputs": [
    {
     "data": {
      "text/plain": [
       "27"
      ]
     },
     "execution_count": 76,
     "metadata": {},
     "output_type": "execute_result"
    }
   ],
   "source": [
    "from functools import reduce\n",
    "\n",
    "# Sum of `test_nums`: 2 + 3 + 7 + 5 + 10 = 27\n",
    "#  - Round 1: a = 2, b = 3 -> a + b = 5\n",
    "#  - Round 2: a = 5, b = 7 -> a + b = 12\n",
    "#  - ...\n",
    "#  - Round 4: a = 17, b = 10 -> a + b = 27\n",
    "#  Return 27\n",
    "reduce(lambda a, b: a + b, test_nums)"
   ]
  },
  {
   "cell_type": "code",
   "execution_count": 77,
   "id": "d4eeccfd-1e6c-47b1-b850-b70c2b3a722a",
   "metadata": {},
   "outputs": [
    {
     "data": {
      "text/plain": [
       "27"
      ]
     },
     "execution_count": 77,
     "metadata": {},
     "output_type": "execute_result"
    }
   ],
   "source": [
    "fl(test_nums).reduce(f=lambda a, b: a + b)"
   ]
  },
  {
   "cell_type": "markdown",
   "id": "3db614b0-5290-44cf-a012-d8b8ab9c23fa",
   "metadata": {},
   "source": [
    "* `List.cumsum`: Identical to [**numpy**.cumsum](https://numpy.org/doc/stable/reference/generated/numpy.cumsum.html) (supported in [#21](https://github.com/johnklee/fpu/issues/21))\n",
    "* `List.mapReduce`: Apply reduce action in map function. (supported in [#21](https://github.com/johnklee/fpu/issues/21))"
   ]
  },
  {
   "cell_type": "code",
   "execution_count": 78,
   "id": "04ef3d1e-523b-4d76-8ace-8177b220ec8b",
   "metadata": {},
   "outputs": [
    {
     "data": {
      "text/plain": [
       "[2, 5, 12, 17, 27]"
      ]
     },
     "execution_count": 78,
     "metadata": {},
     "output_type": "execute_result"
    }
   ],
   "source": [
    "import numpy as np\n",
    "\n",
    "# Gets the cumulative sum of the elements from `test_nums`\n",
    "# [2, 3, 7, 5, 10]\n",
    "# - Round 1: [2]\n",
    "# - Round 2: [2, 2 + 3] = [2, 5]\n",
    "# - Round 3: [2, 5, 5 + 7] = [2, 5, 12]\n",
    "# - ...\n",
    "# - Round 5: [2, 5, 12, 17, 27]\n",
    "np.array(test_nums).cumsum().tolist()"
   ]
  },
  {
   "cell_type": "code",
   "execution_count": 79,
   "id": "56145f40-a960-4da2-b959-cdc36cd68ff4",
   "metadata": {},
   "outputs": [
    {
     "data": {
      "text/plain": [
       "[2, 5, 12, 17, 27]"
      ]
     },
     "execution_count": 79,
     "metadata": {},
     "output_type": "execute_result"
    }
   ],
   "source": [
    "list(fl(test_nums, do_reverse=True).cumsum())"
   ]
  },
  {
   "cell_type": "code",
   "execution_count": 80,
   "id": "818eb012-92a6-4ab4-9b76-1e0f226c29a3",
   "metadata": {},
   "outputs": [
    {
     "data": {
      "text/plain": [
       "[2, 5, 12, 17, 27]"
      ]
     },
     "execution_count": 80,
     "metadata": {},
     "output_type": "execute_result"
    }
   ],
   "source": [
    "# Round 1: [2] -> [2]\n",
    "# Round 2: [2, 2 + 3] = [2, 5]\n",
    "# ...\n",
    "list(fl(test_nums, do_reverse=True).mapReduce(\n",
    "    lambda previous_execution_result, current_element: previous_execution_result + current_element))"
   ]
  },
  {
   "cell_type": "markdown",
   "id": "e88b56e8-188c-4d1f-ab1e-9dd66b40c0b9",
   "metadata": {},
   "source": [
    "* `List.mapWithArgs`: Apply map with exist element and desired arguments. (supported in [#21](https://github.com/johnklee/fpu/issues/21))"
   ]
  },
  {
   "cell_type": "code",
   "execution_count": 81,
   "id": "9ad23357-846f-40a0-a589-fdb6803f0a2d",
   "metadata": {},
   "outputs": [
    {
     "data": {
      "text/plain": [
       "[3, 5, 10, 9, 15]"
      ]
     },
     "execution_count": 81,
     "metadata": {},
     "output_type": "execute_result"
    }
   ],
   "source": [
    "# [\n",
    "#    2 + 1 = 3, \n",
    "#    3 + 2 = 5, \n",
    "#    7 + 3 = 10, \n",
    "#    5 + 4 = 9,\n",
    "#    10 + 5 = 15\n",
    "# ]\n",
    "list(fl(test_nums, do_reverse=True).mapWithArgs(\n",
    "    lambda a, b: a + b, args=[1, 2, 3, 4, 5]))"
   ]
  },
  {
   "cell_type": "markdown",
   "id": "2730e1d1-eaae-46dd-a07d-173f86c8ca15",
   "metadata": {},
   "source": [
    "Below is step by step to demonstrate the flow of FPU solution:"
   ]
  },
  {
   "cell_type": "code",
   "execution_count": 82,
   "id": "385edd7e-162a-4887-983e-14ba8e806465",
   "metadata": {},
   "outputs": [
    {
     "name": "stdout",
     "output_type": "stream",
     "text": [
      "test_nums=[2, 3, 7, 5, 10]\n",
      "[2, 3, 7, 7, 10]\n",
      "[4, 6, 14, 12, 20]\n",
      "[4, 10, 24, 36, 56]\n"
     ]
    }
   ],
   "source": [
    "# answer=[4,10,24,36,56]\n",
    "print(f'test_nums={test_nums}')\n",
    "print(list(fl(test_nums, do_reverse=True).mapReduce(max)))\n",
    "print(list(fl(test_nums, do_reverse=True).mapReduce(max).mapWithArgs(lambda a, b: a + b, test_nums)))\n",
    "print(list(fl(test_nums, do_reverse=True).mapReduce(max).mapWithArgs(lambda a, b: a + b, test_nums).cumsum()))"
   ]
  },
  {
   "cell_type": "code",
   "execution_count": 83,
   "id": "96ab87db-165f-4843-a348-78ff013dde09",
   "metadata": {},
   "outputs": [],
   "source": [
    "class FPSolution:\n",
    "    def findPrefixScore(self, nums: List[int]) -> List[int]:\n",
    "        fp_list = fl(nums, do_reverse=True)\n",
    "\n",
    "        return list(\n",
    "            fp_list.mapReduce(max)  # [2, 3, 7, 5, 10] -> [2, 3, 7, 7, 10]\n",
    "                   .mapWithArgs(lambda a, b: a + b, nums)  # [2, 3, 7, 7, 10] -> [4, 6, 14, 12, 20]\n",
    "                   .cumsum()  # [4, 6, 14, 12, 20] -> [4, 10, 24, 36, 56]\n",
    "        )"
   ]
  },
  {
   "cell_type": "code",
   "execution_count": 84,
   "id": "2d6f6b5d-2f95-408f-a617-ce0edd48f803",
   "metadata": {},
   "outputs": [
    {
     "name": "stdout",
     "output_type": "stream",
     "text": [
      "Case=Case(nums=[2, 3, 7, 5, 10], answer=[4, 10, 24, 36, 56]); result=[4, 10, 24, 36, 56]\n",
      "Case=Case(nums=[1, 1, 2, 4, 8, 16], answer=[2, 4, 8, 16, 32, 64]); result=[2, 4, 8, 16, 32, 64]\n",
      "All pass!\n"
     ]
    }
   ],
   "source": [
    "test_solution(FPSolution())"
   ]
  },
  {
   "cell_type": "markdown",
   "id": "6f835602",
   "metadata": {},
   "source": [
    "<a id='leetcode_2824'></a>\n",
    "### <b><font color='darkgreen'>2824. Count Pairs Whose Sum is Less than Target</font></b>\n",
    "([leetcode link](https://leetcode.com/problems/count-pairs-whose-sum-is-less-than-target/description/))"
   ]
  },
  {
   "cell_type": "markdown",
   "id": "b4046306-9192-4951-8d15-388c7efc3606",
   "metadata": {},
   "source": [
    "#### <b>Example1</b>\n",
    "* **Input**: `nums = [-1, 1, 2, 3, 1], target = 2`\n",
    "* **Output**: 3\n",
    "* **Explanation**: There are 3 pairs of indices that satisfy the conditions in the statement:\n",
    "  - (0, 1) since 0 < 1 and `nums[0] + nums[1] = 0 < target`\n",
    "  - (0, 2) since 0 < 2 and `nums[0] + nums[2] = 1 < target`\n",
    "  - (0, 4) since 0 < 4 and `nums[0] + nums[4] = 0 < target`\n",
    " \n",
    "Note that (0, 3) is not counted since nums[0] + nums[3] is not strictly less than the target.\n",
    "```"
   ]
  },
  {
   "cell_type": "code",
   "execution_count": 85,
   "id": "25124c5f",
   "metadata": {},
   "outputs": [],
   "source": [
    "from typing import List\n",
    "import dataclasses\n",
    "\n",
    "@dataclasses.dataclass\n",
    "class Case:\n",
    "  nums: List[int]\n",
    "  target: int\n",
    "  answer: int \n",
    "\n",
    "\n",
    "input_cases = [\n",
    "  Case([-1, 1, 2, 3, 1], target=2, answer=3),\n",
    "  Case([-6, 2, 5, -2, -7, -1, 3], target = -2, answer=10),\n",
    "]\n",
    "\n",
    "def test_solution(solution):\n",
    "  for case in input_cases:\n",
    "    result = solution.countPairs(case.nums, case.target)    \n",
    "    print(f'Case={case}; result={result}')\n",
    "    assert result == case.answer\n",
    "    \n",
    "  print('All pass!')"
   ]
  },
  {
   "cell_type": "markdown",
   "id": "617874a5",
   "metadata": {},
   "source": [
    "#### <b>Imperative way</b>"
   ]
  },
  {
   "cell_type": "code",
   "execution_count": 86,
   "id": "538493ab-1a08-4a37-a0b6-af5f5b0a6c5f",
   "metadata": {},
   "outputs": [],
   "source": [
    "class ImperativeSolution1:\n",
    "    def countPairs(self, nums: List[int], target: int) -> int:\n",
    "        ans = 0\n",
    "        for i in range(len(nums)-1):\n",
    "            for j in range(i+1, len(nums)):\n",
    "                if nums[i] + nums[j] < target:\n",
    "                    ans += 1\n",
    "                    \n",
    "        return ans"
   ]
  },
  {
   "cell_type": "code",
   "execution_count": 87,
   "id": "4d74bf5f-e2ca-4d1a-b89f-a96ff60aeff7",
   "metadata": {},
   "outputs": [
    {
     "name": "stdout",
     "output_type": "stream",
     "text": [
      "Case=Case(nums=[-1, 1, 2, 3, 1], target=2, answer=3); result=3\n",
      "Case=Case(nums=[-6, 2, 5, -2, -7, -1, 3], target=-2, answer=10); result=10\n",
      "All pass!\n"
     ]
    }
   ],
   "source": [
    "test_solution(ImperativeSolution1())"
   ]
  },
  {
   "cell_type": "code",
   "execution_count": 88,
   "id": "8883a612",
   "metadata": {},
   "outputs": [],
   "source": [
    "class ImperativeSolution2:\n",
    "    def countPairs(self, nums: list[int], target: int) -> int:\n",
    "        nums_length = len(nums)\n",
    "        def pair_sum_gen(pos):\n",
    "            v1 = nums[pos]\n",
    "            for v2 in nums[pos+1:]:\n",
    "                yield v1 + v2\n",
    "\n",
    "        def chain_generator(generators):\n",
    "            for gen in generators:\n",
    "                for v in gen:\n",
    "                    yield v\n",
    "\n",
    "        return sum(\n",
    "            map(\n",
    "                lambda v: v < target,\n",
    "                chain_generator(pair_sum_gen(v)\n",
    "                for v in range(nums_length))))"
   ]
  },
  {
   "cell_type": "code",
   "execution_count": 89,
   "id": "3347ca70",
   "metadata": {},
   "outputs": [
    {
     "name": "stdout",
     "output_type": "stream",
     "text": [
      "Case=Case(nums=[-1, 1, 2, 3, 1], target=2, answer=3); result=3\n",
      "Case=Case(nums=[-6, 2, 5, -2, -7, -1, 3], target=-2, answer=10); result=10\n",
      "All pass!\n"
     ]
    }
   ],
   "source": [
    "test_solution(ImperativeSolution2())"
   ]
  },
  {
   "cell_type": "markdown",
   "id": "0c7b2631",
   "metadata": {},
   "source": [
    "#### <b>Declarative approach</b>"
   ]
  },
  {
   "cell_type": "code",
   "execution_count": 90,
   "id": "2237f7a4",
   "metadata": {},
   "outputs": [
    {
     "name": "stdout",
     "output_type": "stream",
     "text": [
      "(1, 2)\n",
      "(1, 3)\n",
      "(1, 4)\n",
      "(2, 3)\n",
      "(2, 4)\n",
      "(3, 4)\n"
     ]
    }
   ],
   "source": [
    "# C n pick 2\n",
    "def c_n_pick_2(alist):\n",
    "  list_size = len(alist)\n",
    "  for i in range(0, list_size-1):\n",
    "    v1 = alist[i]\n",
    "    for j in range(i+1, list_size):\n",
    "      yield (v1, alist[j])\n",
    "      \n",
    "for t in c_n_pick_2([1,2,3,4]):\n",
    "  # We expect \n",
    "  # 4! / (2! x 2!) = 4x3x2x1 / (2 x 2) = 6 elements\n",
    "  print(t)"
   ]
  },
  {
   "cell_type": "code",
   "execution_count": 91,
   "id": "c8395738",
   "metadata": {},
   "outputs": [
    {
     "name": "stdout",
     "output_type": "stream",
     "text": [
      "(1, 2)\n",
      "(1, 3)\n",
      "(1, 4)\n",
      "(1, 5)\n",
      "(2, 3)\n",
      "(2, 4)\n",
      "(2, 5)\n",
      "(3, 4)\n",
      "(3, 5)\n",
      "(4, 5)\n"
     ]
    }
   ],
   "source": [
    "for t in c_n_pick_2([1, 2, 3, 4, 5]):\n",
    "  # We expect \n",
    "  # 5! / (3! x 2!) = 5x4x3x2x1 / (3 x 2 x 2) = 10 elements\n",
    "  print(t)"
   ]
  },
  {
   "cell_type": "code",
   "execution_count": 92,
   "id": "56e264a1",
   "metadata": {},
   "outputs": [
    {
     "name": "stdout",
     "output_type": "stream",
     "text": [
      "(1, 2)\n",
      "(1, 3)\n",
      "(1, 4)\n",
      "(1, 5)\n",
      "(2, 3)\n",
      "(2, 4)\n",
      "(2, 5)\n",
      "(3, 4)\n",
      "(3, 5)\n",
      "(4, 5)\n"
     ]
    }
   ],
   "source": [
    "from itertools import combinations\n",
    "\n",
    "for t in combinations([1,2,3,4,5], 2):\n",
    "  print(t)"
   ]
  },
  {
   "cell_type": "code",
   "execution_count": 93,
   "id": "c826e2ac",
   "metadata": {},
   "outputs": [],
   "source": [
    "from fpu.flist import comp\n",
    "from typing import List as L\n",
    "\n",
    "class FPUSolution:\n",
    "  def countPairs(self, nums: L[int], target: int) -> int:\n",
    "    return (\n",
    "      # nums = [-1, 1, 2, 3, 1]\n",
    "      comp(nums, 2)\n",
    "        # [(-1, 1), (-1, 2), ...,(3, 1)] -> [0, 1, ..., 4]\n",
    "        .map(lambda t: t[0] + t[1]) \n",
    "        # [0, 1, ..., 4] -> [True, True, ..., False]\n",
    "        .map(lambda v: v < target)  \n",
    "        # [True, True, ..., False] -> Count the number of True\n",
    "        .sum())                      "
   ]
  },
  {
   "cell_type": "code",
   "execution_count": 94,
   "id": "cb33a5fa",
   "metadata": {},
   "outputs": [
    {
     "name": "stdout",
     "output_type": "stream",
     "text": [
      "Case=Case(nums=[-1, 1, 2, 3, 1], target=2, answer=3); result=3\n",
      "Case=Case(nums=[-6, 2, 5, -2, -7, -1, 3], target=-2, answer=10); result=10\n",
      "All pass!\n"
     ]
    }
   ],
   "source": [
    "test_solution(FPUSolution())"
   ]
  },
  {
   "cell_type": "markdown",
   "id": "0de1d331",
   "metadata": {},
   "source": [
    "<a id='leetcode_14'></a>\n",
    "### <font color='darkgreen'>14. Longest Common Prefix</font>\n",
    "([leetcode link](https://leetcode.com/problems/longest-common-prefix/description/))"
   ]
  },
  {
   "cell_type": "code",
   "execution_count": 95,
   "id": "aeb113d4",
   "metadata": {},
   "outputs": [],
   "source": [
    "from typing import List\n",
    "import dataclasses\n",
    "\n",
    "@dataclasses.dataclass\n",
    "class Case:\n",
    "  strs: List[str]\n",
    "  answer: int \n",
    "  \n",
    "input_cases = [\n",
    "  Case([\"flower\",\"flow\",\"flight\"], \"fl\"),\n",
    "  Case([\"dog\",\"racecar\",\"car\"], \"\"),\n",
    "  Case([\"wxyz\",\"wxyz\",\"wxyz\", \"wxyz\"], \"wxyz\"),\n",
    "]\n",
    "\n",
    "def test_solution(solution):\n",
    "  for case in input_cases:\n",
    "    assert solution.longestCommonPrefix(case.strs) == case.answer\n",
    "    \n",
    "  print('All pass!')"
   ]
  },
  {
   "cell_type": "markdown",
   "id": "e5c98134",
   "metadata": {},
   "source": [
    "#### <b>Imperative way</b>"
   ]
  },
  {
   "cell_type": "code",
   "execution_count": 96,
   "id": "ecc06753",
   "metadata": {},
   "outputs": [],
   "source": [
    "class ImperativeSolution:\n",
    "    def longestCommonPrefix(self, strs: List[str]) -> str:\n",
    "        ans = []\n",
    "        for chars in zip(*strs):\n",
    "            if len(set(chars)) == 1:\n",
    "                ans.append(chars[0])\n",
    "            else:\n",
    "                break\n",
    "\n",
    "        return ''.join(ans)"
   ]
  },
  {
   "cell_type": "code",
   "execution_count": 97,
   "id": "ed406a70",
   "metadata": {},
   "outputs": [
    {
     "name": "stdout",
     "output_type": "stream",
     "text": [
      "All pass!\n"
     ]
    }
   ],
   "source": [
    "test_solution(ImperativeSolution())"
   ]
  },
  {
   "cell_type": "markdown",
   "id": "24bdb3ec",
   "metadata": {},
   "source": [
    "#### <b>Declarative approach (FPU)</b>"
   ]
  },
  {
   "cell_type": "code",
   "execution_count": 98,
   "id": "ca35e070",
   "metadata": {},
   "outputs": [],
   "source": [
    "from fpu.flist import *\n",
    "from typing import List as L\n",
    "\n",
    "class FPUSolution:\n",
    "  def longestCommonPrefix(self, strs: list[str]) -> str:\n",
    "    return ''.join(\n",
    "      fl(*strs).zip().reduce(\n",
    "        lambda a, b: a + [b[0]],                     # 1. Collect element of each string from left to right iteratively\n",
    "        identity=[],                                 # 0. Prepare a contain to collect common character\n",
    "        short_stop_func=lambda e: len(set(e)) > 1    # 2. Stop collection if not all element are the same\n",
    "      ))"
   ]
  },
  {
   "cell_type": "code",
   "execution_count": 99,
   "id": "552a53ee",
   "metadata": {},
   "outputs": [
    {
     "data": {
      "text/plain": [
       "[('a', 'a', 'a', 'a'), ('b', 'd', 'g', 'y'), ('c', 'e', 'z', 'y')]"
      ]
     },
     "execution_count": 99,
     "metadata": {},
     "output_type": "execute_result"
    }
   ],
   "source": [
    "fpu_list = fl('abc', 'ade', 'agz', 'ayy')\n",
    "list(fpu_list.zip())"
   ]
  },
  {
   "cell_type": "code",
   "execution_count": 100,
   "id": "81e9db84",
   "metadata": {},
   "outputs": [
    {
     "data": {
      "text/plain": [
       "'a'"
      ]
     },
     "execution_count": 100,
     "metadata": {},
     "output_type": "execute_result"
    }
   ],
   "source": [
    "''.join(\n",
    "  fpu_list.zip().reduce(\n",
    "    lambda a, b: a + [b[0]],\n",
    "    identity=[],\n",
    "    short_stop_func=lambda e: len(set(e))>1))"
   ]
  },
  {
   "cell_type": "code",
   "execution_count": 101,
   "id": "2da83b86",
   "metadata": {},
   "outputs": [
    {
     "name": "stdout",
     "output_type": "stream",
     "text": [
      "All pass!\n"
     ]
    }
   ],
   "source": [
    "test_solution(FPUSolution())"
   ]
  },
  {
   "cell_type": "markdown",
   "id": "8c0f5e76",
   "metadata": {},
   "source": [
    "<a id='leetcode_905'></a>\n",
    "### <font color='darkgreen'><b>905. Sort Array By Parity</b></font>\n",
    "([leetcode link](https://leetcode.com/problems/sort-array-by-parity/))"
   ]
  },
  {
   "cell_type": "code",
   "execution_count": 102,
   "id": "c128fadc",
   "metadata": {},
   "outputs": [],
   "source": [
    "from typing import List\n",
    "\n",
    "@dataclasses.dataclass\n",
    "class Case:\n",
    "  nums: List[int]\n",
    "  answer: List[int]\n",
    "    \n",
    "input_cases = [\n",
    "  Case([1]*100000, [1]*100000),\n",
    "  Case([3,1,2,4], [2,4,3,1]),\n",
    "  Case([0], [0]),\n",
    "  Case([4,5,6,7], [4,6,5,7]),\n",
    "]\n",
    "\n",
    "def test_solution(solution):\n",
    "  for case in input_cases:\n",
    "    result = solution.sortArrayByParity(case.nums)\n",
    "    #print(f'nums={case.nums}; result={result}; answer={case.answer}')\n",
    "    assert result == case.answer\n",
    "    \n",
    "  print('All pass!')    "
   ]
  },
  {
   "cell_type": "markdown",
   "id": "6aaa1c2e",
   "metadata": {},
   "source": [
    "#### <b>Imperative way</b>"
   ]
  },
  {
   "cell_type": "code",
   "execution_count": 103,
   "id": "62008a3e",
   "metadata": {},
   "outputs": [],
   "source": [
    "class ImperativeSolution:\n",
    "  def sortArrayByParity(self, nums: List[int]) -> List[int]:\n",
    "    # print(f'nums={nums}')\n",
    "    l1 = list(filter(lambda n: n%2==0, nums))\n",
    "    l2 = list(filter(lambda n: n%2==1, nums))\n",
    "    # print(f'l1={l1}; l2={l2}')\n",
    "    return l1 + l2"
   ]
  },
  {
   "cell_type": "code",
   "execution_count": 104,
   "id": "e08c6db8",
   "metadata": {},
   "outputs": [
    {
     "name": "stdout",
     "output_type": "stream",
     "text": [
      "All pass!\n",
      "CPU times: user 12 ms, sys: 0 ns, total: 12 ms\n",
      "Wall time: 11.8 ms\n"
     ]
    }
   ],
   "source": [
    "%%time\n",
    "test_solution(ImperativeSolution())"
   ]
  },
  {
   "cell_type": "markdown",
   "id": "3e578573",
   "metadata": {},
   "source": [
    "#### <b>Declarative approach (FPU)</b>"
   ]
  },
  {
   "cell_type": "code",
   "execution_count": 105,
   "id": "5117d140",
   "metadata": {},
   "outputs": [
    {
     "data": {
      "text/plain": [
       "[2, 4, 3, 1]"
      ]
     },
     "execution_count": 105,
     "metadata": {},
     "output_type": "execute_result"
    }
   ],
   "source": [
    "from fpu.flist import fl\n",
    "\n",
    "nums = [3,1,2,4]\n",
    "def _append(a, b):\n",
    "  b[a%2].append(a)\n",
    "  return b\n",
    "\n",
    "list(fl(*nums).reduce(\n",
    "      f=_append, identity=[[], []], as_fl=True, use_fold_right=True))"
   ]
  },
  {
   "cell_type": "code",
   "execution_count": 106,
   "id": "8f40cc65",
   "metadata": {},
   "outputs": [],
   "source": [
    "from fpu.flist import fl\n",
    "\n",
    "class FPUSolution:\n",
    "  def sortArrayByParity(self, nums: List[int]) -> List[int]:\n",
    "    def _append(a, b):\n",
    "      b[a%2].append(a)\n",
    "      return b\n",
    "\n",
    "    return list(fl(*nums).reduce(\n",
    "      _append,\n",
    "      identity=[[],[]],\n",
    "      as_fl=True,\n",
    "      use_fold_right=True))"
   ]
  },
  {
   "cell_type": "code",
   "execution_count": 107,
   "id": "5b0b5044",
   "metadata": {},
   "outputs": [
    {
     "name": "stdout",
     "output_type": "stream",
     "text": [
      "All pass!\n",
      "CPU times: user 389 ms, sys: 13.8 ms, total: 403 ms\n",
      "Wall time: 402 ms\n"
     ]
    }
   ],
   "source": [
    "%%time\n",
    "test_solution(FPUSolution())"
   ]
  },
  {
   "cell_type": "markdown",
   "id": "092b148d-66b5-4ab7-861c-72c85917aa35",
   "metadata": {},
   "source": [
    "<a id='leetcode_2894'></a>\n",
    "### <font color='darkgreen'><b>2894. Divisible and Non-divisible Sums Difference</b></font>\n",
    "([leetcode link](https://leetcode.com/problems/divisible-and-non-divisible-sums-difference/))"
   ]
  },
  {
   "cell_type": "code",
   "execution_count": 108,
   "id": "c7982944-6e30-49a8-b735-681e82aa814b",
   "metadata": {},
   "outputs": [],
   "source": [
    "import dataclasses\n",
    "from typing import List\n",
    "\n",
    "@dataclasses.dataclass\n",
    "class Case:\n",
    "  n: int\n",
    "  m: int\n",
    "  answer: int\n",
    "\n",
    "\n",
    "input_cases = [\n",
    "  Case(n=10, m=3, answer=19),\n",
    "  Case(n=5, m=6, answer=15),\n",
    "  Case(n=5, m=1, answer=-15),\n",
    "]\n",
    "\n",
    "def test_solution(solution):\n",
    "  for case in input_cases:\n",
    "    result = solution.differenceOfSums(case.n, case.m)\n",
    "    #print(f'n={case.n}/m={case.m}; result={result}; answer={case.answer}')\n",
    "    assert result == case.answer\n",
    "    \n",
    "  print('All pass!')  "
   ]
  },
  {
   "cell_type": "markdown",
   "id": "41138598-f20b-487e-8915-5d8f04fe1b36",
   "metadata": {},
   "source": [
    "#### <b>Imperative way</b>"
   ]
  },
  {
   "cell_type": "code",
   "execution_count": 109,
   "id": "cab56047-55dc-4065-9bd9-7a8f4d30ee7f",
   "metadata": {},
   "outputs": [],
   "source": [
    "class ImpSolution:\n",
    "    def differenceOfSums(self, n: int, m: int) -> int:\n",
    "        sum_of_data = [0, 0]\n",
    "        for i in range(1, n+1):\n",
    "            if i % m == 0: sum_of_data[1] += i\n",
    "            else: sum_of_data[0] += i\n",
    "\n",
    "        return sum_of_data[0] - sum_of_data[1]        "
   ]
  },
  {
   "cell_type": "code",
   "execution_count": 110,
   "id": "cf86a86f-40a1-4a97-a289-764d051e08b4",
   "metadata": {},
   "outputs": [
    {
     "name": "stdout",
     "output_type": "stream",
     "text": [
      "All pass!\n"
     ]
    }
   ],
   "source": [
    "test_solution(ImpSolution())"
   ]
  },
  {
   "cell_type": "markdown",
   "id": "3865e48e-7211-4aa2-8f8d-0000fa61485e",
   "metadata": {},
   "source": [
    "#### <b> FPU way</b>"
   ]
  },
  {
   "cell_type": "code",
   "execution_count": 111,
   "id": "9b84c894-3f96-44e5-be0a-079d88a98318",
   "metadata": {},
   "outputs": [],
   "source": [
    "import dataclasses\n",
    "from functools import partial\n",
    "from fpu.flist import frange\n",
    "\n",
    "@dataclasses.dataclass\n",
    "class SumContainer:\n",
    "    divisible_sum: int = 0\n",
    "    not_divisible_sum: int = 0\n",
    "\n",
    "    @property\n",
    "    def answer(self):\n",
    "        return self.not_divisible_sum - self.divisible_sum\n",
    "\n",
    "\n",
    "def select_element(a: SumContainer, b: int, m: int):\n",
    "    if b % m == 0:\n",
    "        a.divisible_sum += b\n",
    "    else:\n",
    "        a.not_divisible_sum += b\n",
    "              \n",
    "    return a\n",
    "\n",
    "\n",
    "class FPUSolution:    \n",
    "    def differenceOfSums(self, n: int, m: int) -> int:\n",
    "        select_element_by_m = partial(select_element, m=m)\n",
    "        \n",
    "        return frange(1, n+1).reduce(\n",
    "          f=select_element_by_m,\n",
    "          identity=SumContainer()\n",
    "        ).answer"
   ]
  },
  {
   "cell_type": "code",
   "execution_count": 112,
   "id": "fd0fb109-1b65-4161-9476-62b2a03b85dd",
   "metadata": {},
   "outputs": [
    {
     "name": "stdout",
     "output_type": "stream",
     "text": [
      "All pass!\n"
     ]
    }
   ],
   "source": [
    "test_solution(FPUSolution())"
   ]
  },
  {
   "cell_type": "markdown",
   "id": "7f9dcfd2",
   "metadata": {},
   "source": [
    "## <font color='darkblue'>Supplement</font>\n",
    "* [Functional Programming 101](https://github.com/johnklee/python_101_crash_courses/blob/main/functional_programming_101/fp_part1.ipynb)"
   ]
  }
 ],
 "metadata": {
  "kernelspec": {
   "display_name": "Python 3 (ipykernel)",
   "language": "python",
   "name": "python3"
  },
  "language_info": {
   "codemirror_mode": {
    "name": "ipython",
    "version": 3
   },
   "file_extension": ".py",
   "mimetype": "text/x-python",
   "name": "python",
   "nbconvert_exporter": "python",
   "pygments_lexer": "ipython3",
   "version": "3.11.5"
  }
 },
 "nbformat": 4,
 "nbformat_minor": 5
}
