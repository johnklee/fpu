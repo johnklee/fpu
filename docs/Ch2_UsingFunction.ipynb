{
 "cells": [
  {
   "cell_type": "markdown",
   "metadata": {},
   "source": [
    "# <font color='darkblue'>What is a function?</font>\n",
    "<b>A function is generally known as a mathematical object, although the concept is also ubiquitous in everyday life</b>. Unfortunately, in everyday life, we often confuse functions and effects. And what is even more unfortunate is that we also make this mistake when working with many programming languages. \n",
    "\n",
    "## <font color='darkgreen'>Functions in the real world</font>\n",
    "In the real world, a function is primarily a mathematic concept. It’s a relation between a source set, called the function domain, to a target set, called the function codomain. The domain and the codomain need not be distinct. A function can have the same set of integer numbers for its domain and its codomain, for example.\n",
    "\n",
    "<b><font size='3'>What makes a relation between two sets a function</font></b><br/>\n",
    "To be a function, a relation must fulfill one condition: all elements of the domain must have one and only one corresponding element in the codomain, as shown in below figure:\n",
    "<img src='https://2.bp.blogspot.com/-oSfVsuKVXcE/Wfm5yJnJhYI/AAAAAAAAXCA/Gq5Q_jjdK9wik1LJjYoy3f1ALYomLrcYgCLcBGAs/s1600/4070_f2-1.PNG'/><br/>\n",
    "\n",
    "This has some interesting implications: \n",
    "* There cannot exist elements in the domain with no corresponding value in the codomain. \n",
    "* There cannot exist two elements in the codomain corresponding to the same element of the domain. \n",
    "* There may be elements in the codomain with no corresponding element in the source set. \n",
    "* There may be elements in the codomain with more than one corresponding element in the source set. \n",
    "* The set of elements of the codomain that have a corresponding element in the domain is called the image of the function.\n",
    "\n",
    "<b><font size='3'>Partial functions</font></b><br/>\n",
    "A relation that isn’t defined for all elements of the domain but that fulfills the rest of the requirement (<font color='brown'>no element of the domain can have a relationship with more than one element of the codomain</font>) is often called a <b><font color='darkblue'>partial function</font></b>. The relation predecessor(x) is a partial function on <i>N</i> (<font color='brown'>the set of positive integers plus 0</font>), but it’s a total function on N*, which is the set of positive integers without 0, and its codomain is N.\n",
    "\n",
    "Partial functions are important in programming because many bugs are the result of using a partial function as if it were a total one. For example, the relation <font color='blue'>f(x) = 1/x</font> is a partial function from N to Q (<font color='brown'>the rational numbers</font>) because it isn’t defined for 0. It’s a total function from N* to Q, but it’s also a total function from N to (<font color='brown'>Q plus error</font>). <b>By adding an element to the codomain</b> (<font color='brown'>the error condition</font>)<b>, you can transform the partial function into a total one.</b> But to do this, the function needs a way to return an error. Can you see an analogy with computer programs? You’ll see that turning partial functions into total ones is an important part of functional programming. \n",
    "\n",
    "<b><font size='3'>Function composition </font></b><br/>\n",
    "Functions are building blocks that can be composed to build other functions. The composition of functions <i>f</i> and <i>g</i> is noted as <b><font color='blue'>f ˚ g</font></b>, which reads as <b>f round g</b>. If f(x) = x + 2 and g(x) = x * 2, then:\n",
    "```python\n",
    "f ˚ g (x) = f(g(x)) = f(x * 2) = (x * 2) + 2  \n",
    "```\n",
    "\n",
    "Note that the two notations f ˚ g (x) and f(g(x)) are equivalent. But writing a composition as f(g(x)) implies using x as a placeholder for the argument. Using the f ˚ g notation, you can express a function composition without using this placeholder. \n",
    "\n",
    "If you apply this function to 5, you’ll get the following:\n",
    "```python\n",
    "f ˚ g (5) = f(g(5)) = f(5 * 2) = 10 + 2 = 12\n",
    "```\n",
    "\n",
    "It’s interesting to note that f ˚ g is generally different from g ˚ f, although they may sometimes be equivalent. For example: \n",
    "```python\n",
    "g ˚ f (5) = g(f(5)) = g(5 + 2) = 7 * 2 = 14\n",
    "```\n",
    "\n",
    "<b><font size='3'>Functions of several arguments</font></b><br/>\n",
    "So far, we’ve talked only about functions of one argument. What about functions of several arguments? Simply said, there’s no such thing as a function of several arguments. Remember the definition? <b>A function is a relation between a source set and a target set. It isn’t a relation between two or more source sets and a target set. A function can’t have several arguments. But the product of two sets is itself a set, so a function from such a product of sets into a set may appear to be a function of several arguments</b>. Let’s consider the following function:\n",
    "```python\n",
    "f(x, y) = x + y\n",
    "```\n",
    "This may be a relation between N x N and N, in which case, it’s a function. But it has only one argument, which is an element of N x N. N x N is the set of all possible pairs of integers. An element of this set is a pair of integers, and a pair is a special case of the more general tuple concept used to represent combinations of several elements. A pair is a tuple of two elements. \n",
    "Tuples are noted between parentheses, so (3, 5) is a tuple and an element of N x N. The function <i>f</i> can be applied to this tuple: \n",
    "```python\n",
    "f((3, 5)) = 3 + 5 = 8\n",
    "```\n",
    "\n",
    "In such a case, you may, by convention, simplify writing by removing one set of parentheses: \n",
    "```python\n",
    "f(3, 5) = 3 + 5 = 8\n",
    "```\n",
    "\n",
    "Nevertheless, it’s still a function of one tuple, and not a function of two arguments. \n",
    "\n",
    "<b><font size='3'>Function currying</font></b><br/>\n",
    "Functions of tuples can be thought of differently. The function <font color='blue'>f(3, 5)</font> might be considered as a function from N to a set of functions of N. So the previous example could be rewritten as:<br/>\n",
    "```python\n",
    "f(x)(y) = g(y)\n",
    "```\n",
    "where\n",
    "```python\n",
    "g(y) = x + y\n",
    "```\n",
    "In such a case, you can write\n",
    "```python\n",
    "f(x) = g\n",
    "```\n",
    "which means that the result of applying the function <i>f</i> to the argument x is a new function <i>g</i>. Applying this <i>g</i> function to y gives the following:\n",
    "```python\n",
    "g(y) = x + y\n",
    "```\n",
    "When applying <i>g</i>, x is no longer a variable. It doesn’t depend on the argument or on anything else. It’s a constant. If you apply this to (3, 5), you get the following: \n",
    "```python\n",
    "f(3)(5) = g(5) = 3 + 5 = 8\n",
    "```\n",
    "<b>The only new thing here is that the codomain of <i>f</i> is a set of functions instead of a set of numbers. The result of applying f to an integer is a function. The result of applying this function to an integer is an integer.</b> <font color='blue'>f(x)(y)</font> is the curried form of the function <font color='blue'>f(x, y)</font>. Applying this transformation to a function of a tuple (<font color='brown'>which you can call a function of several arguments if you prefer</font>) is called <font color='darkblue'><b>currying</b></font>, after the mathematician Haskell Curry (<font color='brown'>although he wasn’t the inventor of this transformation</font>). \n",
    "\n",
    "<b><font size='3'>Partially applied functions</font></b><br/>\n",
    "The curried form of the addition function may not seem natural, and you might wonder if it corresponds to something in the real world. After all, <b>with the curried version, you’re considering both arguments separately. One of the arguments is considered first, and applying the function to it gives you a new function</b>. Is this new function useful by itself, or is it simply a step in the global calculation? \n",
    "\n",
    "In the case of an addition, it doesn’t seem useful. And by the way, you could start with either of the two arguments and it would make no difference. The intermediate function would be different, but not the end result. Now consider a new function of a pair of values: \n",
    "```python\n",
    "f(rate, price) = price / 100 * (100 + rate)\n",
    "```\n",
    "\n",
    "That function seems to be equivalent to this: \n",
    "```python\n",
    "g(price, rate) = price / 100 * (100 + rate)  \n",
    "```\n",
    "\n",
    "Let’s now consider the curried versions of these two functions:\n",
    "```python\n",
    "f(rate)(price)  \n",
    "g(price)(rate)  \n",
    "```\n",
    "\n",
    "You know that <i>f</i> and <i>g</i> are functions. But what are <font color='blue'>f(rate)</font> and <font color='blue'>g(price)</font>? Yes, for sure, they’re the results of applying <i>f</i> to rate and <i>g</i> to price. But what are the types of these results? <font color='blue'>f(rate)</font> is a function of a price to a price. If rate = 9, this function applies a tax of 9% to a price, giving a new price. You could call the resulting function <font color='blue'>apply9-percentTax(price)</font>, and it would probably be a useful tool because the tax rate doesn’t change often. \n",
    "\n",
    "On the other hand, <font color='blue'>g(price)</font> is a function of a rate to a price. If the price is $100, it gives a new function applying a price of $100 to a variable tax. What could you call this function? If you can’t think of a meaningful name, that usually means that it’s useless, though this depends on the problem you have to solve. Functions like <font color='blue'>f(rate)</font> and <font color='blue'>g(price)</font> are sometimes called <font color='darkblue'><b>partially applied functions</b></font>, in reference to the forms <font color='blue'>f(rate, price)</font> and <font color='blue'>g(price, rate)</font>. <b>Partially applying functions can have huge consequences regarding argument evaluation.</b> We’ll come back to this subject in a later section. \n",
    "\n",
    "<b><font size='3'>Functions have no effects</font></b><br/>\n",
    "Remember that pure functions only return a value and do nothing else. They don’t mutate any element of the outside world (<font color='brown'>with outside being relative to the function itself</font>), they don’t mutate their arguments, and they don’t explode (<font color='brown'>or throw an exception, or anything else</font>) <b>if an error occurs. They can return an exception or anything else, such as an error message. But they must return it, not throw it, nor log it, nor print it.</b> \n",
    "\n",
    "# <font color='darkblue'>Functions in Python </font>\n",
    "\n",
    "## <font color='darkgreen'>Functional methods </font>\n",
    "A method can be functional if it respects the <b>requirements of a pure function:</b> \n",
    "* It must not mutate anything outside the function. No internal mutation may be visible from the outside. \n",
    "* It must not mutate its argument. \n",
    "* It must not throw errors or exceptions. \n",
    "* It must always return a value. \n",
    "* When called with the same argument, it must always return the same result.\n",
    "\n",
    "## <font color='darkgreen'>Composing functions</font>\n",
    "If you think about functions as methods, composing them seems simple:"
   ]
  },
  {
   "cell_type": "code",
   "execution_count": 1,
   "metadata": {},
   "outputs": [
    {
     "name": "stdout",
     "output_type": "stream",
     "text": [
      "Composing example: square(triple(2)) = 36\n"
     ]
    }
   ],
   "source": [
    "def square(x):\n",
    "    return x * x\n",
    "\n",
    "def triple(x):\n",
    "    return x * 3\n",
    "\n",
    "print(\"Composing example: square(triple(2)) = {}\".format(square(triple(2))))"
   ]
  },
  {
   "cell_type": "markdown",
   "metadata": {},
   "source": [
    "But this isn’t function composition. In this example, you’re composing function applications. <b><a href='https://en.wikipedia.org/wiki/Function_composition'>Function composition</a> is a binary operation on functions, just as addition is a binary operation on numbers</b>. So you can compose functions programmatically, using a method: "
   ]
  },
  {
   "cell_type": "code",
   "execution_count": 2,
   "metadata": {},
   "outputs": [
    {
     "name": "stdout",
     "output_type": "stream",
     "text": [
      "compose_ex(square, triple)(2)=36\n"
     ]
    }
   ],
   "source": [
    "def compose_ex(f1, f2):\n",
    "    def cmp(x):\n",
    "        return f1(f2(x))\n",
    "    \n",
    "    return cmp\n",
    "\n",
    "print(\"compose_ex(square, triple)(2)={}\".format(compose_ex(square, triple)(2)))"
   ]
  },
  {
   "cell_type": "markdown",
   "metadata": {},
   "source": [
    "Now you can start seeing how powerful this concept is! \n",
    "\n",
    "<b><font size='3'>Problem with function compositions</font></b><br/>\n",
    "<b>In imperative programming, each function is evaluated before the result is passed as the input of the next function. But in functional programming, composing functions means building the resulting function without evaluating anything.</b> Composing functions is powerful because functions can be composed without being evaluated. But as a consequence, <font color='red'>applying the composed function results in numerous embedded method calls that will eventually overflow the stack</font>. This can be demonstrated with a simple example (<font color='brown'>using lambdas, which will be introduced in the next section</font>): "
   ]
  },
  {
   "cell_type": "code",
   "execution_count": 5,
   "metadata": {},
   "outputs": [
    {
     "ename": "RuntimeError",
     "evalue": "maximum recursion depth exceeded",
     "output_type": "error",
     "traceback": [
      "\u001b[0;31m---------------------------------------------------------------------------\u001b[0m",
      "\u001b[0;31mRuntimeError\u001b[0m                              Traceback (most recent call last)",
      "\u001b[0;32m<ipython-input-5-a4d772fdafc5>\u001b[0m in \u001b[0;36m<module>\u001b[0;34m()\u001b[0m\n\u001b[1;32m      8\u001b[0m     \u001b[0maddN\u001b[0m \u001b[0;34m=\u001b[0m \u001b[0mcompose_ex\u001b[0m\u001b[0;34m(\u001b[0m\u001b[0maddN\u001b[0m\u001b[0;34m,\u001b[0m \u001b[0maddOne\u001b[0m\u001b[0;34m)\u001b[0m\u001b[0;34m\u001b[0m\u001b[0m\n\u001b[1;32m      9\u001b[0m \u001b[0;34m\u001b[0m\u001b[0m\n\u001b[0;32m---> 10\u001b[0;31m \u001b[0;32mprint\u001b[0m\u001b[0;34m(\u001b[0m\u001b[0;34m'addN(1) = {}'\u001b[0m\u001b[0;34m.\u001b[0m\u001b[0mformat\u001b[0m\u001b[0;34m(\u001b[0m\u001b[0maddN\u001b[0m\u001b[0;34m(\u001b[0m\u001b[0;36m1\u001b[0m\u001b[0;34m)\u001b[0m\u001b[0;34m)\u001b[0m\u001b[0;34m)\u001b[0m\u001b[0;34m\u001b[0m\u001b[0m\n\u001b[0m",
      "\u001b[0;32m<ipython-input-2-f490313b4cf7>\u001b[0m in \u001b[0;36mcmp\u001b[0;34m(x)\u001b[0m\n\u001b[1;32m      1\u001b[0m \u001b[0;32mdef\u001b[0m \u001b[0mcompose_ex\u001b[0m\u001b[0;34m(\u001b[0m\u001b[0mf1\u001b[0m\u001b[0;34m,\u001b[0m \u001b[0mf2\u001b[0m\u001b[0;34m)\u001b[0m\u001b[0;34m:\u001b[0m\u001b[0;34m\u001b[0m\u001b[0m\n\u001b[1;32m      2\u001b[0m     \u001b[0;32mdef\u001b[0m \u001b[0mcmp\u001b[0m\u001b[0;34m(\u001b[0m\u001b[0mx\u001b[0m\u001b[0;34m)\u001b[0m\u001b[0;34m:\u001b[0m\u001b[0;34m\u001b[0m\u001b[0m\n\u001b[0;32m----> 3\u001b[0;31m         \u001b[0;32mreturn\u001b[0m \u001b[0mf1\u001b[0m\u001b[0;34m(\u001b[0m\u001b[0mf2\u001b[0m\u001b[0;34m(\u001b[0m\u001b[0mx\u001b[0m\u001b[0;34m)\u001b[0m\u001b[0;34m)\u001b[0m\u001b[0;34m\u001b[0m\u001b[0m\n\u001b[0m\u001b[1;32m      4\u001b[0m \u001b[0;34m\u001b[0m\u001b[0m\n\u001b[1;32m      5\u001b[0m     \u001b[0;32mreturn\u001b[0m \u001b[0mcmp\u001b[0m\u001b[0;34m\u001b[0m\u001b[0m\n",
      "... last 1 frames repeated, from the frame below ...\n",
      "\u001b[0;32m<ipython-input-2-f490313b4cf7>\u001b[0m in \u001b[0;36mcmp\u001b[0;34m(x)\u001b[0m\n\u001b[1;32m      1\u001b[0m \u001b[0;32mdef\u001b[0m \u001b[0mcompose_ex\u001b[0m\u001b[0;34m(\u001b[0m\u001b[0mf1\u001b[0m\u001b[0;34m,\u001b[0m \u001b[0mf2\u001b[0m\u001b[0;34m)\u001b[0m\u001b[0;34m:\u001b[0m\u001b[0;34m\u001b[0m\u001b[0m\n\u001b[1;32m      2\u001b[0m     \u001b[0;32mdef\u001b[0m \u001b[0mcmp\u001b[0m\u001b[0;34m(\u001b[0m\u001b[0mx\u001b[0m\u001b[0;34m)\u001b[0m\u001b[0;34m:\u001b[0m\u001b[0;34m\u001b[0m\u001b[0m\n\u001b[0;32m----> 3\u001b[0;31m         \u001b[0;32mreturn\u001b[0m \u001b[0mf1\u001b[0m\u001b[0;34m(\u001b[0m\u001b[0mf2\u001b[0m\u001b[0;34m(\u001b[0m\u001b[0mx\u001b[0m\u001b[0;34m)\u001b[0m\u001b[0;34m)\u001b[0m\u001b[0;34m\u001b[0m\u001b[0m\n\u001b[0m\u001b[1;32m      4\u001b[0m \u001b[0;34m\u001b[0m\u001b[0m\n\u001b[1;32m      5\u001b[0m     \u001b[0;32mreturn\u001b[0m \u001b[0mcmp\u001b[0m\u001b[0;34m\u001b[0m\u001b[0m\n",
      "\u001b[0;31mRuntimeError\u001b[0m: maximum recursion depth exceeded"
     ]
    }
   ],
   "source": [
    "def addOne(x):\n",
    "    return x + 1\n",
    "\n",
    "addN = compose_ex(addOne, addOne)\n",
    "\n",
    "fnum = 1000\n",
    "for i in range(fnum):\n",
    "    addN = compose_ex(addN, addOne)\n",
    "    \n",
    "print('addN(1) = {}'.format(addN(1)))    "
   ]
  },
  {
   "cell_type": "markdown",
   "metadata": {},
   "source": [
    "This program will overflow the stack when fnum is around 1000. Hopefully you won’t usually compose several thousand functions, but you should be aware of this.\n",
    "\n",
    "# <font color='darkblue'>Advanced function features</font>\n",
    "You’ve seen how to create apply and compose functions. You’ve also learned that functions can be represented by methods or by objects. But you haven’t answered a fundamental question: why do you need function objects? Couldn’t you simply use methods? Before answering this question, you have to consider the problem of the functional representation of multiargument methods. \n",
    "\n",
    "## <font color='darkgreen'>Applying curried functions</font>\n",
    "You’ve seen how to write curried function types and how to implement them. But how do you apply them? Well, just like any function. You apply the function to the first argument, and then apply the result to the next argument, and so on until the last one. For example, you can apply the add function to 3 and 5: "
   ]
  },
  {
   "cell_type": "code",
   "execution_count": 11,
   "metadata": {},
   "outputs": [
    {
     "name": "stdout",
     "output_type": "stream",
     "text": [
      "addTenWith(5) = 15\n"
     ]
    }
   ],
   "source": [
    "import functools\n",
    "\n",
    "def addTwo(x, y):\n",
    "    return x + y\n",
    "\n",
    "addTenWith = functools.partial(addTwo, x = 10)\n",
    "print(\"addTenWith(5) = {}\".format(addTenWith(y=5)))"
   ]
  },
  {
   "cell_type": "markdown",
   "metadata": {},
   "source": [
    "Here, we leverage package <b><a href='https://docs.python.org/2/library/functools.html'>functools</a></b> to carry out the curring operation. It would be great if you could apply a function just by writing its name followed by its argument. It would allow coding, as in Scala:\n",
    "```scala\n",
    "addTwo(10)(5)\n",
    "```\n",
    "\n",
    "## <font color='darkgreen'>Higher-order functions</font>\n",
    "We wrote a method to compose functions before. That method was a functional one, taking as its argument a tuple of two functions and returning a function. But instead of using a method, you could use a function! This special kind of function, <b>taking functions as its arguments and returning functions, is called a <font color='darkblue'>higher-order function</font></b> (<font color='brown'>HOF</font>). \n",
    "\n",
    "Below we introduce higher-order function <font color='blue'>compose2</font> to compose <font color='blue'>f(g(x))</font>; and <font color='blue'>andThen</font> to compose the opposite direction (<font color='brown'>f=square; g=triple</font>):"
   ]
  },
  {
   "cell_type": "code",
   "execution_count": 16,
   "metadata": {},
   "outputs": [
    {
     "name": "stdout",
     "output_type": "stream",
     "text": [
      "triple_and_square(2) = 36\n",
      "square_andThen_square(2) = 12\n"
     ]
    }
   ],
   "source": [
    "from fpu.fp import compose2, andThen\n",
    "\n",
    "triple_and_square = compose2(square, triple)\n",
    "square_andThen_square = andThen(square, triple)\n",
    "print(\"triple_and_square(2) = {}\".format(triple_and_square(2)))  # (2 * 3)^2 = 36\n",
    "print(\"square_andThen_square(2) = {}\".format(square_andThen_square(2)))  # 2^2 * 3 = 12"
   ]
  },
  {
   "cell_type": "markdown",
   "metadata": {},
   "source": [
    "## <font color='darkgreen'>Closures</font>\n",
    "You’ve seen that pure functions must not depend on anything other than their arguments to evaluate their return values. Methods may even access static members of other classes. I’ve said that functional methods are methods that respect referential transparency, which means they have no observable effects besides returning a value. The same is true for functions. <b>Functions are pure if they don’t have observable side effects.</b> \n",
    "\n",
    "<b><a href='https://en.wikipedia.org/wiki/Closure_(computer_programming)'>Closures</a> are compatible with pure functions if you consider them as additional implicit arguments.</b> One simple example as below:"
   ]
  },
  {
   "cell_type": "code",
   "execution_count": 18,
   "metadata": {},
   "outputs": [
    {
     "name": "stdout",
     "output_type": "stream",
     "text": [
      "add5(10) = 15\n"
     ]
    }
   ],
   "source": [
    "def addN(n):\n",
    "    def add(x):\n",
    "        return x + n\n",
    "    \n",
    "    return add\n",
    "    \n",
    "add5 = addN(5)\n",
    "print(\"add5(10) = {}\".format(add5(10)))"
   ]
  },
  {
   "cell_type": "markdown",
   "metadata": {},
   "source": [
    "The method <font color='blue'>addN</font> will return a closure binding with a free variable <i>n</i>. From above example, <font color='blue'>add5</font> is binding with free variable <font color='blue'>n=5</font>. For more about Python closure, you can refer to this post: <a href='http://www.codedata.com.tw/java/understanding-lambda-closure-3-python-support/'>認識 Lambda/Closure（3）Python 對 Lambda/Closure 的支援</a>."
   ]
  }
 ],
 "metadata": {
  "kernelspec": {
   "display_name": "Python 3",
   "language": "python",
   "name": "python3"
  },
  "language_info": {
   "codemirror_mode": {
    "name": "ipython",
    "version": 2
   },
   "file_extension": ".py",
   "mimetype": "text/x-python",
   "name": "python",
   "nbconvert_exporter": "python",
   "pygments_lexer": "ipython2",
   "version": "2.7.12"
  }
 },
 "nbformat": 4,
 "nbformat_minor": 2
}
