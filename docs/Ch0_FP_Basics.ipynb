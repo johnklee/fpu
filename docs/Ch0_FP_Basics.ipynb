{
 "cells": [
  {
   "cell_type": "markdown",
   "metadata": {},
   "source": [
    "# <font color='darkblue'>FP Introduction</font>\n",
    "Functional programming has a long history. In a nutshell, its a style of programming where you focus on transforming data through the use of small expressions that ideally don’t contain side effects. In other words, when you call `my_fun(1, 2)`, it will alway return the same result. This is achieved by immutable data typical of a functional language.\n",
    "* Lisp 1958\n",
    "* Renaissance: F#, Haskell, Erlang ...\n",
    "* Used in industry such as Trading, Algorithmic, and Telecommunication etc\n",
    "\n",
    "## <font color='green'>Features of FP</font>\n",
    "* Everything is a function\n",
    "* Pure functions without side effects\n",
    "* Immutable data structures\n",
    "* Preserve state in functions (Closure, Cury)\n",
    "* Recursion instead of loops/iteration\n",
    "\n",
    "## <font color='green'>Advantages of FP</a>\n",
    "* Absence of side effects can make your programs more robust\n",
    "* Programs tend to be more modular come and typically in smaller building blocks\n",
    "* Better testable - call with same parameters always returns same result\n",
    "* Focus on algorithms\n",
    "* Conceptional fit with parallel / concurrent programming\n",
    "* Live upates - Install new release while running\n",
    "\n",
    "## <font color='green'>Disadvantages of FP</font>\n",
    "* Solutions to the same problem can look very different than procedural/OO ones\n",
    "* Finding good developers can be hard\n",
    "* Not equally useful for all types of problems\n",
    "* Input/Output are side effects and need special treatment\n",
    "* Recursion is \"an order of magnitude more complex\" than loops/iterations\n",
    "* Immutable data structures may increase run times\n",
    "\n",
    "## <font color='green'>Python's Functional Features - Overview</font>\n",
    "* Pure functions (sort of)\n",
    "* Closures - hold state in functions\n",
    "* Functions as objects and decorators\n",
    "* Immutable data types (tuple, freezeSet)\n",
    "* Lazy evaluation - generators\n",
    "* List (dictionary, set) comprehensions\n",
    "* <a href='https://docs.python.org/3.5/library/functools.html'>functools</a>, itertools, lambda, map, filter\n",
    "* Recursion - try to avoid, recursion limit has a reason\n",
    "\n",
    "# <font color='darkblue'>FP Backgrounds & Concepts</font>\n",
    "## <font color='green'>Declarative vs Imperative</font>\n",
    "* Define what to do vs. How to do it\n",
    "* Expressive\n",
    "* Improve/Optimize underlying algorithms\n",
    "* Elimite side-effect as much as possible\n",
    "\n",
    "\n",
    "\n",
    "# <font color='darkblue'>FP Terminology</font>\n",
    "\n",
    "## <font color='green'>Pure Functions - No Side Effect</font>\n",
    "* No side effect and return value only"
   ]
  },
  {
   "cell_type": "code",
   "execution_count": 1,
   "metadata": {},
   "outputs": [
    {
     "name": "stdout",
     "output_type": "stream",
     "text": [
      "[1, 2, 3, 1, 2, 3]\t[1, 2, 3]\n",
      "[1, 2, 3, 100]\t[1, 2, 3, 100]\n"
     ]
    }
   ],
   "source": [
    "def do_pure(data):\n",
    "    '''Return copy times two.'''\n",
    "    return data * 2\n",
    "\n",
    "def do_side_effect(my_list):\n",
    "    '''Modify list by appending 100 to it'''\n",
    "    my_list.append(100)\n",
    "    return my_list\n",
    "    \n",
    "data = [1,2,3]    \n",
    "print(\"{}\\t{}\".format(do_pure(data), data)) # data is not modified\n",
    "print(\"{}\\t{}\".format(do_side_effect(data), data)) # data is modified!"
   ]
  },
  {
   "cell_type": "markdown",
   "metadata": {},
   "source": [
    "## <font color='green'>Functions are Objects</font>\n",
    "In Python, everything is an object including function:"
   ]
  },
  {
   "cell_type": "code",
   "execution_count": 2,
   "metadata": {},
   "outputs": [
    {
     "name": "stdout",
     "output_type": "stream",
     "text": [
      "1\t2\n"
     ]
    }
   ],
   "source": [
    "def func1():\n",
    "    return 1\n",
    "\n",
    "def func2():\n",
    "    return 2\n",
    "\n",
    "my_funcs = {'a': func1, 'b': func2}\n",
    "print(\"{}\\t{}\".format(my_funcs['a'](), my_funcs['b']()))"
   ]
  },
  {
   "cell_type": "markdown",
   "metadata": {},
   "source": [
    "## <font color='green'>Closures and \"Curring\"</font>\n",
    "A Closure is a function which simply creates a scope that allows the function to access and manimupate the variables in enclosing scopes. Normally, you will follow below steps to create a Closure in Python:\n",
    "1. We have to create a nested function (a function inside another function).\n",
    "2. This nested function has to refer to a variable defined inside the enclosing function.\n",
    "3. The enclosing function has to return the nested function"
   ]
  },
  {
   "cell_type": "code",
   "execution_count": 3,
   "metadata": {},
   "outputs": [
    {
     "name": "stdout",
     "output_type": "stream",
     "text": [
      "[1, 2, 3, 4, 5] contains 5 ? True  (state=5)\n",
      "[1, 2, 3, 4, 5] contains 10 ? False\n"
     ]
    }
   ],
   "source": [
    "def contain_N(n):\n",
    "    def inner(a_list):\n",
    "        return n in a_list\n",
    "    return inner\n",
    "\n",
    "data = [1, 2, 3, 4, 5]\n",
    "contain_5 = contain_N(5)\n",
    "contain_10 = contain_N(10)\n",
    "print('{} contains 5 ? {}  (state={})'.format(data, contain_5(data), contain_5.__closure__[0].cell_contents))\n",
    "print('{} contains 10 ? {}'.format(data, contain_10(data)))"
   ]
  },
  {
   "cell_type": "markdown",
   "metadata": {},
   "source": [
    "<b>What are closures good for?</b><br/>\n",
    "Even if closures seem pretty interesting (a function returning another function which knows its creation context!) there is another question: where can we utilize closures to make the best of them?\n",
    "\n",
    "Here are a few uses for closures:\n",
    "* Eliminating global variables\n",
    "* Replacing hard-coded constants\n",
    "* Providing consistent function signatures\n",
    "\n",
    "\n",
    "<a href='https://en.wikipedia.org/wiki/Currying'><b>Currying</b></a> is like a kind of incremental binding of function arguments. It is the technique of breaking down the evaluation of a function that takes multiple arguments into evaluating a sequence of single-argument functions.\n",
    "* Concept by Haskell Curry\n",
    "* Translating a function that takes multiple arguments into a sequence of functions which all take 1 argument. e.g.: add(a, b) AND add(a)(b)\n",
    "* Improves reusability and composition\n",
    "* In some languages (Haskell, F#) functions are curried by default"
   ]
  },
  {
   "cell_type": "code",
   "execution_count": 4,
   "metadata": {},
   "outputs": [
    {
     "name": "stdout",
     "output_type": "stream",
     "text": [
      "1 + 2 = 3\n",
      "2 + 3 = 5\n"
     ]
    }
   ],
   "source": [
    "def curry_ex(a):\n",
    "    def inner(b):\n",
    "        return a + b\n",
    "    return inner\n",
    "\n",
    "print(\"1 + 2 = {}\".format(curry_ex(1)(2)))\n",
    "print(\"2 + 3 = {}\".format(curry_ex(2)(3)))"
   ]
  },
  {
   "cell_type": "markdown",
   "metadata": {},
   "source": [
    "However, Python doesn't support Curring well. So you have to use decorator technique to get around it. One example:"
   ]
  },
  {
   "cell_type": "code",
   "execution_count": 5,
   "metadata": {},
   "outputs": [
    {
     "name": "stdout",
     "output_type": "stream",
     "text": [
      "1-2-3\n",
      "1-2-3\n",
      "1-2-3\n"
     ]
    }
   ],
   "source": [
    "from inspect import signature\n",
    "\n",
    "def curry(x, argc=None):\n",
    "    if argc is None:\n",
    "        argc = len(signature(x).parameters)\n",
    "        \n",
    "    def p(*a):\n",
    "        if len(a) == argc:\n",
    "            return x(*a)\n",
    "        def q(*b):\n",
    "            return x(*(a + b))\n",
    "        return curry(q, argc - len(a))\n",
    "    return p\n",
    "\n",
    "@curry\n",
    "def myfun(a,b,c):\n",
    "    print(\"{}-{}-{}\".format(a,b,c))\n",
    "    \n",
    "myfun(1, 2, 3)\n",
    "myfun(1, 2)(3)\n",
    "myfun(1)(2)(3)    "
   ]
  },
  {
   "cell_type": "markdown",
   "metadata": {},
   "source": [
    "## <font color='green'>Partial Functions</font>\n",
    "Partial functions allow one to derive a function with x parameters to a function with fewer parameters and fixed values set for the more limited function. Module <a href='https://docs.python.org/3.5/library/functools.html'><b>functools</b></a> offers some tools for the functional approach."
   ]
  },
  {
   "cell_type": "code",
   "execution_count": 6,
   "metadata": {},
   "outputs": [
    {
     "name": "stdout",
     "output_type": "stream",
     "text": [
      "52\n",
      "40\n"
     ]
    }
   ],
   "source": [
    "import functools\n",
    "\n",
    "def func(a, b, c):\n",
    "    r'''\n",
    "    (a + b) * c\n",
    "    '''\n",
    "    return (a + b) * c\n",
    "\n",
    "p_func = functools.partial(func, 10)  # Fill a with 10\n",
    "print(\"{}\".format(p_func(3, 4)))  # (10 + 3) * 4\n",
    "\n",
    "p_func = functools.partial(func, a=1, c=10) # Fill a with 1; c with 10\n",
    "print(\"{}\".format(p_func(b=3)))  # (1 + 3) * 10"
   ]
  },
  {
   "cell_type": "markdown",
   "metadata": {},
   "source": [
    "## <font color='green'>Recursion</font>\n",
    "Well, the best example to adopt recursion is to calculate <a href='https://en.wikipedia.org/wiki/Factorial'><b>factorial</b></a> (e.g.: 5!=5\\*4\\*3\\*2\\*1):"
   ]
  },
  {
   "cell_type": "code",
   "execution_count": 7,
   "metadata": {},
   "outputs": [
    {
     "name": "stdout",
     "output_type": "stream",
     "text": [
      "recursion limit=2,000\n",
      "factorial_loop took 0:00:00.676846 seconds\n",
      "factorial_recv took 0:00:01.097472 seconds\n"
     ]
    }
   ],
   "source": [
    "from datetime import datetime\n",
    "import sys\n",
    "\n",
    "def factorial_loop(n):\n",
    "    v = 1\n",
    "    while n > 0:\n",
    "        v *= n\n",
    "        n -= 1        \n",
    "    return v\n",
    "    \n",
    "def factorial_recv(n):\n",
    "    return 1 if n == 1 else n * factorial_recv(n-1)\n",
    "\n",
    "ss_limit = 2000\n",
    "print('recursion limit={:,d}'.format(ss_limit))\n",
    "n = ss_limit  # n=ss_limit will cause 'maximum recursion depth exceeded'\n",
    "for k,f in {'factorial_loop':factorial_loop, 'factorial_recv': factorial_recv}.items():\n",
    "    s = datetime.now()    \n",
    "    for i in range(1, n):\n",
    "        #print(\"{}!={}\".format(i, f(i)))\n",
    "        f(i)\n",
    "    d = datetime.now() - s\n",
    "    print(\"{} took {} seconds\".format(k, d))"
   ]
  },
  {
   "cell_type": "markdown",
   "metadata": {},
   "source": [
    "## <font color='green'>Lambda, filter, reduce and map</font>\n",
    "For lambda:\n",
    "* Allow very limited anonymous function(s)\n",
    "* Expressions only, no statements\n",
    "* Past discussion to exclude it from Python3\n",
    "* Useful for callbacks"
   ]
  },
  {
   "cell_type": "code",
   "execution_count": 8,
   "metadata": {},
   "outputs": [
    {
     "name": "stdout",
     "output_type": "stream",
     "text": [
      "datas=[0, 1, 2, 3, 4, 5, 6, 7, 8, 9]\n",
      "Even numbers: <filter object at 0x7f94d0384588>\n",
      "Multiple 2: <map object at 0x7f94d03950b8>\n",
      "Sum all element: 45\n"
     ]
    }
   ],
   "source": [
    "from functools import reduce\n",
    "\n",
    "datas = [i for i in range(10)]\n",
    "print('datas={}'.format(datas))\n",
    "\n",
    "# Pickup even number by filter\n",
    "print(\"Even numbers: {}\".format(filter(lambda e: e%2==0, datas)))\n",
    "\n",
    "# Multiple 2 for all element by map\n",
    "print(\"Multiple 2: {}\".format(map(lambda e: e * 2, datas)))\n",
    "\n",
    "# Sum all element by reduce\n",
    "print(\"Sum all element: {}\".format(reduce(lambda a, b: a + b, datas)))"
   ]
  },
  {
   "cell_type": "markdown",
   "metadata": {},
   "source": [
    "<img src='http://www.globalnerdy.com/wordpress/wp-content/uploads/2016/06/map-filter-reduce-in-emoji-1.png'/>\n",
    "\n",
    "Below are sample code to illustrate the functionality of <font color='blue'>filter</font>, <font color='blue'>reduce</font> and <font color='blue'>map</font>:"
   ]
  },
  {
   "cell_type": "code",
   "execution_count": 9,
   "metadata": {},
   "outputs": [
    {
     "name": "stdout",
     "output_type": "stream",
     "text": [
      "Food as vegetable: [{'name': 'potato', 'is_veg': True}, {'name': 'corn', 'is_veg': True}]\n",
      "Cook the food: ['hamburger', 'French fries', 'fried chicken', 'pop corn']\n",
      "Eat hamburger\n",
      "Eat French fries\n",
      "Eat fried chicken\n",
      "Eat pop corn\n",
      "Eat all food to output 'Shit'\n",
      "Eat  and hamburger\n",
      "Eat Shit and French fries\n",
      "Eat Shit and fried chicken\n",
      "Eat Shit and pop corn\n",
      "Eat all food to output 'Shit'\n"
     ]
    }
   ],
   "source": [
    "# Data to be processed\n",
    "food_list = [{'name':'beef', 'is_veg':False},\n",
    "             {'name':'potato', 'is_veg':True},\n",
    "             {'name':'chicken', 'is_veg':False},\n",
    "             {'name':'corn', 'is_veg':True}]\n",
    "\n",
    "# Illustration of function filter which is natively supported in built-in functions\n",
    "# Filter all food which is vegetarian\n",
    "def is_vegetarian(food):\n",
    "    return food['is_veg']\n",
    "\n",
    "print(\"Food as vegetable: {}\".format(list(filter(is_vegetarian, food_list))))\n",
    "\n",
    "# Illustration of function map which is native supported in built-in functions\n",
    "# Cool the food and return the result\n",
    "def cook(food):\n",
    "    if food['name'] == 'beef':\n",
    "        return 'hamburger'\n",
    "    elif food['name'] == 'potato':\n",
    "        return 'French fries'\n",
    "    elif food['name'] == 'chicken':\n",
    "        return 'fried chicken'\n",
    "    elif food['name'] == 'corn':\n",
    "        return 'pop corn'\n",
    "    else:\n",
    "        return 'unknown food'\n",
    "    \n",
    "print(\"Cook the food: {}\".format(list(map(cook, food_list)))) \n",
    "\n",
    "# Illustration of function reduce which supported in package functools:\n",
    "# https://docs.python.org/3/library/functools.html#functools.reduce\n",
    "from functools import reduce\n",
    "def eat_correct(x, food):\n",
    "    print('Eat {}'.format(food))\n",
    "    return 'Shit'\n",
    "\n",
    "def eat_wrong(x, food):\n",
    "    print('Eat {} and {}'.format(x, food))\n",
    "    return 'Shit'\n",
    "    \n",
    "# Correct eat\n",
    "print(\"Eat all food to output '{}'\".format(reduce(eat_correct, map(cook, food_list), '')))\n",
    "print(\"Eat all food to output '{}'\".format(reduce(eat_wrong, map(cook, food_list), '')))"
   ]
  },
  {
   "cell_type": "markdown",
   "metadata": {},
   "source": [
    "## <font color='green'>Decorators</font>\n",
    "Decorators belong most probably to the most beautiful and most powerful design possibilities in Python, but at the same time the concept is considered by many as complicated to get into. To be precise, the usage of decorates is very easy, but writing decorators can be complicated, especially if you are not experienced with decorators and some functional programming concepts. \n",
    "\n",
    "Even though it is the same underlying concept, we have two different kinds of decorators in Python:\n",
    "* Function decorators\n",
    "* Class decorators\n",
    "\n",
    "A decorator in Python is any callable Python object that is used to modify a function or a class. A reference to a function \"func\" or a class \"C\" is passed to a decorator and the decorator returns a modified function or class. The modified functions or classes usually contain calls to the original function \"func\" or class \"C\"."
   ]
  },
  {
   "cell_type": "code",
   "execution_count": 10,
   "metadata": {},
   "outputs": [
    {
     "name": "stdout",
     "output_type": "stream",
     "text": [
      "Decorator was here\n",
      "1 + 2 = 3\n",
      "Decorator was here\n",
      "2 + 3 = 5\n"
     ]
    }
   ],
   "source": [
    "def decorator(func):\n",
    "    @functools.wraps(func)\n",
    "    def new_func(*args, **kwargs):\n",
    "        print('Decorator was here')\n",
    "        return func(*args, **kwargs)\n",
    "    return new_func\n",
    "\n",
    "@decorator\n",
    "def add(a, b):\n",
    "    return a + b\n",
    "\n",
    "print(\"1 + 2 = {}\".format(add(1, 2)))\n",
    "print(\"2 + 3 = {}\".format(add(2, 3)))"
   ]
  },
  {
   "cell_type": "markdown",
   "metadata": {},
   "source": [
    "## <font color='green'>Lazy Evaluation</font>\n",
    "* Iterators and generators\n",
    "* Saves memory and possibly CPU time\n",
    "* Working with infinite data structures"
   ]
  },
  {
   "cell_type": "code",
   "execution_count": 11,
   "metadata": {},
   "outputs": [
    {
     "name": "stdout",
     "output_type": "stream",
     "text": [
      "gen is <class 'generator'>; alist is <class 'list'>\n"
     ]
    }
   ],
   "source": [
    "import sys\n",
    "\n",
    "# Below is a generator\n",
    "# xrange is gone in python3.x\n",
    "# https://stackoverflow.com/questions/15014310/why-is-there-no-xrange-function-in-python3\n",
    "if sys.version_info[0] == 2:\n",
    "    gen = (x * 2 for x in xrange(5))\n",
    "else:\n",
    "    def xrange(n):\n",
    "        i = 0\n",
    "        while i < n:\n",
    "            yield i\n",
    "            i += 1\n",
    "            \n",
    "    gen = (x * 2 for x in xrange(5))\n",
    "    \n",
    "alist = [x * 2 for x in range(5)]\n",
    "print(\"gen is {}; alist is {}\".format(gen.__class__, alist.__class__))\n",
    "\n",
    "# Can you tell the difference between range & xrange?"
   ]
  },
  {
   "cell_type": "markdown",
   "metadata": {},
   "source": [
    "<b>\"Lazy Programmers are Good programmers\"</b><br/>\n",
    "* Module <a href='https://docs.python.org/2/library/itertools.html'><b>itertools</b></a> offers tools for the work with iterators"
   ]
  },
  {
   "cell_type": "code",
   "execution_count": 12,
   "metadata": {},
   "outputs": [
    {
     "name": "stdout",
     "output_type": "stream",
     "text": [
      "<zip object at 0x7f94d0304748>\n",
      "a,1\n",
      "b,2\n",
      "c,3\n",
      "\n",
      "[0, 2, 4, 6]\n",
      "range(0, 8, 2)\n",
      "range(10)=range(0, 10)\n",
      "xrange(10)=<generator object xrange at 0x7f94d0bea678>\n",
      "range took 0:00:01.613212\n",
      "xrange took 0:00:00.000117\n"
     ]
    }
   ],
   "source": [
    "import itertools as it\n",
    "if sys.version_info[0] == 2:\n",
    "    print(it.izip(\"abc\", \"123\"))\n",
    "    for (a, n) in it.izip(\"abc\", \"123\"):\n",
    "        print(\"{},{}\".format(a, n))\n",
    "else:\n",
    "    print(zip(\"abc\", \"123\"))\n",
    "    for (a, n) in zip(\"abc\", \"123\"):\n",
    "        print(\"{},{}\".format(a, n))\n",
    "        \n",
    "    print(\"\")\n",
    "    \n",
    "print(list(it.islice(iter(xrange(10)), None, 8, 2))) # Do slicing Ends before 8 and take step=2\n",
    "print(range(10)[:8:2])  # The whole list is created before slicing.\n",
    "\n",
    "print(\"range(10)={}\".format(range(10)))\n",
    "print(\"xrange(10)={}\".format(xrange(10)))\n",
    "\n",
    "n =  50000000 #100000000\n",
    "s = datetime.now()\n",
    "for i in list(range(n)):\n",
    "    if i == 10:\n",
    "        break\n",
    "print(\"range took {}\".format(datetime.now() - s))      \n",
    "\n",
    "s = datetime.now()\n",
    "for i in range(n):\n",
    "    if i == 10:\n",
    "        break\n",
    "        \n",
    "print(\"xrange took {}\".format(datetime.now() - s))      "
   ]
  },
  {
   "cell_type": "markdown",
   "metadata": {},
   "source": [
    "# <font color='darkblue'>Simple Example of Pipelining - Chaining Commands</font>\n",
    "* Generators make good pipelines\n",
    "* Useful for workflow problems\n",
    "* Example parsing of a log file\n",
    "\n",
    "## <font color='green'> Generators - Pull</font>\n",
    "Consider a log file (Here use generator to simulate the log content):"
   ]
  },
  {
   "cell_type": "code",
   "execution_count": 13,
   "metadata": {},
   "outputs": [
    {
     "name": "stdout",
     "output_type": "stream",
     "text": [
      "70\n",
      "34\n",
      "# Comment-1\n",
      "# Comment-2\n",
      "33\n",
      "2\n",
      "# Comment-3\n",
      "72\n",
      "65\n",
      "92\n",
      "99\n",
      "# Comment-4\n",
      "35\n",
      "# Comment-5\n",
      "49\n",
      "# Comment-6\n",
      "# Comment-7\n",
      "# Comment-8\n",
      "13\n",
      "# Comment-9\n",
      "Done!\n"
     ]
    },
    {
     "name": "stderr",
     "output_type": "stream",
     "text": [
      "/root/Tasks/fpu/my_proj/lib/python3.6/site-packages/ipykernel_launcher.py:36: DeprecationWarning: generator 'read_forever' raised StopIteration\n"
     ]
    }
   ],
   "source": [
    "import random\n",
    "import time\n",
    "\n",
    "def logCnt():    \n",
    "    r'''\n",
    "    Simulate the streaming of log content\n",
    "    '''\n",
    "    cmtCnt = 0\n",
    "    while True:\n",
    "        if random.random() > 0.5:\n",
    "            yield str(random.randint(1, 100))\n",
    "        else:\n",
    "            cmtCnt += 1\n",
    "            yield '# Comment-{}'.format(cmtCnt)\n",
    "        \n",
    "n = 20            \n",
    "def read_forever(stream=logCnt, limit=-1):\n",
    "    r'''\n",
    "    Read from a file as long as there are lines.\n",
    "    Wait for the other process to write more lines.\n",
    "    '''\n",
    "    counter = 0\n",
    "    while True:\n",
    "        for line in stream():            \n",
    "            if not line:                \n",
    "                time.sleep(0.1)\n",
    "                continue\n",
    "            counter += 1\n",
    "            if limit > 0 and counter > limit:\n",
    "                raise StopIteration()           \n",
    "            yield line   \n",
    "            \n",
    "    raise StopIteration()\n",
    "\n",
    "# Read top N lines    \n",
    "for line in read_forever(logCnt, limit=n):\n",
    "    print(line)\n",
    "    \n",
    "print('Done!')"
   ]
  },
  {
   "cell_type": "markdown",
   "metadata": {},
   "source": [
    "## <font color='green'>Filter Out Comment Lines</font>"
   ]
  },
  {
   "cell_type": "code",
   "execution_count": 14,
   "metadata": {},
   "outputs": [],
   "source": [
    "def filter_comments(lines):\n",
    "    r'''\n",
    "    Filter out all lines starting with #\n",
    "    '''\n",
    "    for line in lines:\n",
    "        if not line.strip().startswith('#'):\n",
    "            yield line"
   ]
  },
  {
   "cell_type": "markdown",
   "metadata": {},
   "source": [
    "## <font color='green'>Convert Numbers</font>"
   ]
  },
  {
   "cell_type": "code",
   "execution_count": 15,
   "metadata": {},
   "outputs": [],
   "source": [
    "def get_number(lines):\n",
    "    r'''\n",
    "    Read the numbere in the line and convert it to an integer.\n",
    "    '''\n",
    "    for line in lines:\n",
    "        yield int(line.split()[-1])"
   ]
  },
  {
   "cell_type": "markdown",
   "metadata": {},
   "source": [
    "## <font color='green'>Initialize the Process in Procedure way</font>"
   ]
  },
  {
   "cell_type": "code",
   "execution_count": 16,
   "metadata": {},
   "outputs": [
    {
     "name": "stdout",
     "output_type": "stream",
     "text": [
      "sum: 77\r\n",
      "sum: 138\r\n",
      "sum: 159\r\n",
      "sum: 215\r\n",
      "sum: 314\r\n"
     ]
    },
    {
     "name": "stderr",
     "output_type": "stream",
     "text": [
      "/root/Tasks/fpu/my_proj/lib/python3.6/site-packages/ipykernel_launcher.py:5: DeprecationWarning: generator 'read_forever' raised StopIteration\n",
      "  \"\"\"\n"
     ]
    }
   ],
   "source": [
    "def show_sum():\n",
    "    lines = read_forever(limit=10)\n",
    "    filtered_lines = filter_comments(lines)\n",
    "    numbers = get_number(filtered_lines)\n",
    "    sum_ = 0\n",
    "    try:\n",
    "        for number in numbers:\n",
    "            sum_ += number\n",
    "            print('sum: {}\\r'.format(sum_))\n",
    "    except:\n",
    "        print('*sum: {}'.format(sum_))\n",
    "        \n",
    "show_sum()        "
   ]
  },
  {
   "cell_type": "markdown",
   "metadata": {},
   "source": [
    "## <font color='green'>Let's redo it in FP way</font>"
   ]
  },
  {
   "cell_type": "code",
   "execution_count": 17,
   "metadata": {},
   "outputs": [
    {
     "name": "stdout",
     "output_type": "stream",
     "text": [
      "target is <class 'generator'>\n",
      "[FATAL] sum: 78\n",
      "[ERROR] sum: 27\n",
      "[WARN] sum: 69\n",
      "[INFO] sum: 89\n",
      "[INFO] sum: 104\n",
      "[ERROR] sum: 33\n",
      "[ERROR] sum: 55\n",
      "[INFO] sum: 175\n",
      "[FATAL] sum: 129\n",
      "[FATAL] sum: 151\n",
      "[ERROR] sum: 141\n",
      "[INFO] sum: 206\n",
      "[WARN] sum: 116\n",
      "[WARN] sum: 137\n",
      "[FATAL] sum: 206\n",
      "[FATAL] sum: 293\n",
      "[DEBUG] sum: 91\n",
      "[INFO] sum: 227\n",
      "[WARN] sum: 186\n",
      "[DEBUG] sum: 153\n"
     ]
    }
   ],
   "source": [
    "import functools\n",
    "import sys\n",
    "import time\n",
    "\n",
    "def logCntWithLevel():  \n",
    "    r'''\n",
    "    Simulate the streaming of log content\n",
    "    '''\n",
    "    level = [\"DEBUG\", \"INFO\", \"WARN\", \"ERROR\", \"FATAL\"]\n",
    "    cmtCnt = 0\n",
    "    while True:\n",
    "        if random.random() > 0.1:\n",
    "            lv = level[random.randint(0, 4)]\n",
    "            yield \"{}: {}\".format(lv, random.randint(1, 100))\n",
    "        else:\n",
    "            cmtCnt += 1\n",
    "            yield '# Comment-{}'.format(cmtCnt)\n",
    "            \n",
    "def init_coroutine(func):\n",
    "    r'''\n",
    "    Decorator\n",
    "    @see\n",
    "        https://docs.python.org/3/library/functools.html#functools.wraps\n",
    "    '''\n",
    "    functools.wraps(func)\n",
    "    def init(*args, **kwargs):\n",
    "        gen = func(*args, **kwargs)\n",
    "        next(gen)\n",
    "        return gen\n",
    "    \n",
    "    return init\n",
    "\n",
    "def read_forever2(target, stream=logCntWithLevel, limit=-1):\n",
    "    r'''\n",
    "    Read from a stream as long as there are lines.\n",
    "    Wait for the other process to write more lines.\n",
    "    Send the lines to `target`.\n",
    "    '''\n",
    "    counter = 0\n",
    "    while True:\n",
    "        for line in stream():            \n",
    "            if not line:                \n",
    "                time.sleep(0.1)\n",
    "                continue\n",
    "                \n",
    "            counter += 1\n",
    "            if limit > 0 and counter > limit:\n",
    "                raise StopIteration()    \n",
    "                \n",
    "            if counter == 1:\n",
    "                print(\"target is {}\".format(target.__class__))\n",
    "                \n",
    "            target.send(line)   \n",
    "            \n",
    "    raise StopIteration()\n",
    "    \n",
    "@init_coroutine\n",
    "def filter_comments(target):\n",
    "    r'''\n",
    "    Filter out all lines starting with #.\n",
    "    '''\n",
    "    while True:\n",
    "        line = yield\n",
    "        if not line.strip().startswith('#'):\n",
    "            target.send(line)\n",
    "            \n",
    "@init_coroutine\n",
    "def get_number(targets):\n",
    "    r'''\n",
    "    Read the number in the line and convert it to an integer.\n",
    "    Use the level read from the line to choose the to target.\n",
    "    '''\n",
    "    while True:\n",
    "        line = yield        \n",
    "        level, number = line.split(':')\n",
    "        number = int(number)\n",
    "        targets[level].send(number)\n",
    "        \n",
    "@init_coroutine\n",
    "def debug():\n",
    "    '''Handle debug message'''\n",
    "    sum_ = 0\n",
    "    while True:\n",
    "        value = yield\n",
    "        sum_ += value\n",
    "        print('[DEBUG] sum: {}'.format(sum_))\n",
    "        \n",
    "@init_coroutine\n",
    "def info():\n",
    "    '''Handle info message'''\n",
    "    sum_ = 0\n",
    "    while True:\n",
    "        value = yield\n",
    "        sum_ += value\n",
    "        print('[INFO] sum: {}'.format(sum_))\n",
    "        \n",
    "@init_coroutine\n",
    "def warn():\n",
    "    '''Handle warn message'''\n",
    "    sum_ = 0\n",
    "    while True:\n",
    "        value = yield\n",
    "        sum_ += value\n",
    "        print('[WARN] sum: {}'.format(sum_))  \n",
    "\n",
    "@init_coroutine\n",
    "def error():\n",
    "    '''Handle error message'''\n",
    "    sum_ = 0\n",
    "    while True:\n",
    "        value = yield\n",
    "        sum_ += value\n",
    "        print('[ERROR] sum: {}'.format(sum_))\n",
    "        \n",
    "@init_coroutine\n",
    "def fatal():\n",
    "    '''Handle fatal message'''\n",
    "    sum_ = 0\n",
    "    while True:\n",
    "        value = yield\n",
    "        sum_ += value\n",
    "        print('[FATAL] sum: {}'.format(sum_))        \n",
    "        \n",
    "TARGETS = {'DEBUG':debug(), 'INFO':info(), 'WARN':warn(), 'ERROR':error(), 'FATAL':fatal()}\n",
    "\n",
    "def show_chain_fp():\n",
    "    '''Start the whole pipline'''\n",
    "    try:\n",
    "        read_forever2(filter_comments(get_number(TARGETS)), limit=20) # What an elegant code :p\n",
    "    except:\n",
    "        pass\n",
    "    \n",
    "show_chain_fp()    "
   ]
  },
  {
   "cell_type": "markdown",
   "metadata": {},
   "source": [
    "# <font color='darkblue'>Conclusion</font>\n",
    "* Pure FP can be difficult to implement\n",
    "* Combine with procedural and OO program parts\n",
    "  * For some tasks, the functional approach works very well\n",
    "  * For some others much less\n",
    "  * Combine and switch back and forth with OO and procedural style\n",
    "* Choose right tool, for the task at hand\n",
    "* Develop a feeling where a functional approach can be beneficial\n",
    "* Python offers useful functional features\n",
    "* But it is <b>no pure functional language</b>\n",
    "* Stay pythonic, be pragmatic!"
   ]
  },
  {
   "cell_type": "markdown",
   "metadata": {},
   "source": [
    "# <font color='darkblue'>HackerRank - gem-stones</font>\n",
    "Source from <a href='https://www.hackerrank.com/challenges/gem-stones/problem'>here</a>. <br/>\n",
    "__Question__: John發現了很多種岩石。每種岩石都有一個獨一無二成分：由小寫英文字母組成。寶石是由一個單一的字符組成，並且將在所有岩石中出現。給出一些岩石的成分，輸出有多少種不同的寶石存在。Let's look at a simple test case to know how your function should work.\n",
    "\n",
    "Condier you have three rocks with ingredients as below:\n",
    "```\n",
    "abcdde\n",
    "baccd\n",
    "eeabg\n",
    "```\n",
    "Stone has ingredient `abcdde` which turns out to 5 element 'a', 'b', 'c', 'd' and 'e'. Your function will receive an array as `['abcdde', 'baccd', 'eeabg']` and your function should output the number of element which all rock contain. Here is 2. (Both 'a' and 'b' exist in all rocks). One imperative solution as below:"
   ]
  },
  {
   "cell_type": "code",
   "execution_count": 18,
   "metadata": {},
   "outputs": [
    {
     "name": "stdout",
     "output_type": "stream",
     "text": [
      "Output of gemstones_imp=2\n"
     ]
    }
   ],
   "source": [
    "arr = ['abcdde', 'baccd', 'eeabg']\n",
    "# Complete the gemstones function below.\n",
    "def gemstones_imp(arr):\n",
    "    set_list = []\n",
    "    for s in arr:\n",
    "        set_list.append(set(list(s)))\n",
    "\n",
    "    # Imperative code\n",
    "    uset = None\n",
    "    for aset in set_list:\n",
    "        if uset is None:\n",
    "            uset = aset\n",
    "        else:\n",
    "            uset = uset & aset\n",
    "\n",
    "    return len(uset)\n",
    "\n",
    "print(\"Output of gemstones_imp={}\".format(gemstones_imp(arr)))"
   ]
  },
  {
   "cell_type": "markdown",
   "metadata": {},
   "source": [
    "Or we can use functional programming to rewrite it in a neat way:"
   ]
  },
  {
   "cell_type": "code",
   "execution_count": 19,
   "metadata": {},
   "outputs": [
    {
     "name": "stdout",
     "output_type": "stream",
     "text": [
      "Output of gemstones_imp=2\n"
     ]
    }
   ],
   "source": [
    "from fpu.flist import *\n",
    "\n",
    "def gemstones_dec(arr):\n",
    "    rlist = fl(arr)\n",
    "    return len(\n",
    "                rlist.map(lambda r: set(list(r))) \\\n",
    "                     .reduce(lambda a, b: a & b)\n",
    "              )\n",
    "\n",
    "print(\"Output of gemstones_imp={}\".format(gemstones_dec(arr)))"
   ]
  },
  {
   "cell_type": "markdown",
   "metadata": {},
   "source": [
    "# <font color='darkblue'>Permuting Two Arrays</font>\n",
    "Source from <a href='https://www.hackerrank.com/challenges/two-arrays/problem'>here</a>. <br/>\n",
    "Let's check the imperative version:"
   ]
  },
  {
   "cell_type": "code",
   "execution_count": 20,
   "metadata": {},
   "outputs": [
    {
     "name": "stdout",
     "output_type": "stream",
     "text": [
      "[2, 1, 3]/[7, 8, 9] with k=10-> YES\n",
      "[1, 2, 2, 1]/[3, 3, 3, 4] with k=5-> NO\n"
     ]
    }
   ],
   "source": [
    "datas = [(10, [2, 1, 3], [7, 8, 9]), \n",
    "         (5, [1, 2, 2, 1], [3, 3, 3, 4])]\n",
    "\n",
    "# Complete the twoArrays function below.\n",
    "def twoArrays_imp(k, A, B):\n",
    "    sA = sorted(A)\n",
    "    sB = sorted(B, reverse=True)\n",
    "    \n",
    "    for i in range(len(A)):\n",
    "        if sA[i] + sB[i] < k:\n",
    "            return 'NO'\n",
    "        \n",
    "    return 'YES'\n",
    "\n",
    "for k, A, B in datas:\n",
    "    print(\"{}/{} with k={}-> {}\".format(A, B, k, twoArrays_imp(k, A, B)))"
   ]
  },
  {
   "cell_type": "markdown",
   "metadata": {},
   "source": [
    "Now is the FP version:"
   ]
  },
  {
   "cell_type": "code",
   "execution_count": 21,
   "metadata": {},
   "outputs": [
    {
     "name": "stdout",
     "output_type": "stream",
     "text": [
      "[2, 1, 3]/[7, 8, 9] with k=10-> YES\n",
      "[1, 2, 2, 1]/[3, 3, 3, 4] with k=5-> NO\n"
     ]
    }
   ],
   "source": [
    "def twoArrays(k, A, B):\n",
    "    sA = sorted(A)\n",
    "    sB = sorted(B, reverse=True)\n",
    "    return 'YES' if all(map(lambda t:(t[0]+t[1]-k) >=0, zip(sA, sB))) else 'NO'\n",
    "\n",
    "for k, A, B in datas:\n",
    "    print(\"{}/{} with k={}-> {}\".format(A, B, k, twoArrays(k, A, B)))"
   ]
  },
  {
   "cell_type": "markdown",
   "metadata": {},
   "source": [
    "# <font color='darkblue'>Game of Stones</font>\n",
    "Source from <a href='https://www.hackerrank.com/challenges/game-of-stones-1/problem'>here</a>. <br/>\n",
    "Let's check the imperative version:"
   ]
  },
  {
   "cell_type": "code",
   "execution_count": 22,
   "metadata": {},
   "outputs": [
    {
     "name": "stdout",
     "output_type": "stream",
     "text": [
      "With 0 number of stone, winner is Second\n",
      "With 1 number of stone, winner is Second\n",
      "With 2 number of stone, winner is First\n",
      "With 3 number of stone, winner is First\n",
      "With 4 number of stone, winner is First\n",
      "With 5 number of stone, winner is First\n",
      "With 6 number of stone, winner is First\n",
      "With 7 number of stone, winner is Second\n",
      "With 10 number of stone, winner is First\n",
      "With 11 number of stone, winner is First\n",
      "With 12 number of stone, winner is First\n",
      "With 13 number of stone, winner is First\n",
      "With 14 number of stone, winner is Second\n",
      "With 15 number of stone, winner is Second\n"
     ]
    }
   ],
   "source": [
    "datas = [0, 1, 2, 3, 4, 5, 6, 7, 10, 11, 12, 13, 14, 15]\n",
    "\n",
    "# Complete the gameOfStones function below.\n",
    "def gameOfStones_imp(n):\n",
    "    #       0      1     2     3     4      5     6     7\n",
    "    ib = [False, False, True, True, True, True, True, False]\n",
    "    \n",
    "    while len(ib) < n + 1:\n",
    "        if not ib[-2] or not ib[-3] or not ib[-5]:\n",
    "            ib.append(True)\n",
    "        else:\n",
    "            ib.append(False)\n",
    "            \n",
    "    return 'First' if ib[n] else 'Second'\n",
    "\n",
    "for num_of_stone in datas:\n",
    "    print(\"With {:,d} number of stone, winner is {}\".format(num_of_stone, gameOfStones_imp(num_of_stone)))"
   ]
  },
  {
   "cell_type": "markdown",
   "metadata": {},
   "source": [
    "Now is the FP solution:"
   ]
  },
  {
   "cell_type": "code",
   "execution_count": 23,
   "metadata": {},
   "outputs": [
    {
     "name": "stdout",
     "output_type": "stream",
     "text": [
      "With 0 number of stone, winner is Second\n",
      "With 1 number of stone, winner is Second\n",
      "With 2 number of stone, winner is First\n",
      "With 3 number of stone, winner is First\n",
      "With 4 number of stone, winner is First\n",
      "With 5 number of stone, winner is First\n",
      "With 6 number of stone, winner is First\n",
      "With 7 number of stone, winner is Second\n",
      "With 10 number of stone, winner is First\n",
      "With 11 number of stone, winner is First\n",
      "With 12 number of stone, winner is First\n",
      "With 13 number of stone, winner is First\n",
      "With 14 number of stone, winner is Second\n",
      "With 15 number of stone, winner is Second\n"
     ]
    }
   ],
   "source": [
    "from fpu.fp import *\n",
    "\n",
    "ib = ['Second', 'Second', 'First', 'First', 'First', 'First', 'First', 'Second']\n",
    "def gameOfStones(n):\n",
    "    #print('Check n={} (len(ib)={})'.format(n, len(ib)))\n",
    "    if n < 0:\n",
    "        return 'Second'\n",
    "    elif n + 1 > len(ib):\n",
    "        gameOfStones(n-1)        \n",
    "        if 'Second' in [gameOfStones(n-2), gameOfStones(n-3), gameOfStones(n-5)]:\n",
    "            ib.append('First')\n",
    "        else:\n",
    "            ib.append('Second')\n",
    "            \n",
    "    return ib[n]\n",
    "\n",
    "    \n",
    "def recv(n):\n",
    "    gameOfStones_v2(n-1)\n",
    "    if 'Second' in [gameOfStones_v2(n-2), gameOfStones_v2(n-3), gameOfStones_v2(n-5)]:\n",
    "        ib.append('First')\n",
    "    else:\n",
    "        ib.append('Second')\n",
    "        \n",
    "    return ib[n]\n",
    "\n",
    "def gameOfStones_v2(n):   \n",
    "    return Case.match(        \n",
    "        Case.default(Supplier(ib.__getitem__, n)),\n",
    "        Case.mcase(Supplier(lambda n: n + 1 > len(ib), n), \n",
    "                   Supplier(recv, n)),\n",
    "        Case.mcase(Supplier(lambda n: n <= 0, n), \n",
    "                   'Second')\n",
    "    )\n",
    "    \n",
    "for num_of_stone in datas:\n",
    "    print(\"With {:,d} number of stone, winner is {}\".format(num_of_stone, gameOfStones_v2(num_of_stone)))"
   ]
  },
  {
   "cell_type": "markdown",
   "metadata": {},
   "source": [
    "# <font color='darkblue'>Reference</font>\n",
    "* <a href='https://www.youtube.com/watch?v=oB8jN68KGcU'>Why Functional Programming Matters</a>\n",
    "* <a href='https://www.youtube.com/watch?v=Ta1bAMOMFOI'>Functional Programming with Python</a>\n",
    "* <a href='https://www.quora.com/What-is-functional-programming'>What is functional programming?</a>\n",
    "* <a href='https://www.tutorialspoint.com/functional_programming/functional_programming_introduction.htm'>Tutorialspoint - Functional Programming Introduction</a>\n",
    "* <a href='https://jigsawye.gitbooks.io/mostly-adequate-guide/content/ch2.html'>JavaScript FP</a>\n",
    "* <a href='http://puremonkey2010.blogspot.tw/2016/09/python-lambda.html'>Python 學習筆記 - 函式、類別與模組 : 函式 (lambda 運算式)</a>\n",
    "* <a href='https://www.python-course.eu/python3_lambda.php'>Python 3 - Lambda, filter, reduce and map</a>\n",
    "* <a href='http://ot-note.logdown.com/posts/67571/-decorator-with-without-arguments-in-function-class-form'>Python Decorator 四種寫法範例 Code</a>\n",
    "* <a href='http://puremonkey2010.blogspot.tw/2018/04/python-python-generator-send-function.html'>Python 常見問題 - python generator “send” function purpose?</a>\n",
    "* <a href='https://docs.python.org/3/howto/functional.html'>Python3 Doc - Functional Programming HOWTO</a>"
   ]
  }
 ],
 "metadata": {
  "kernelspec": {
   "display_name": "Python 3",
   "language": "python",
   "name": "python3"
  },
  "language_info": {
   "codemirror_mode": {
    "name": "ipython",
    "version": 3
   },
   "file_extension": ".py",
   "mimetype": "text/x-python",
   "name": "python",
   "nbconvert_exporter": "python",
   "pygments_lexer": "ipython3",
   "version": "3.6.6"
  }
 },
 "nbformat": 4,
 "nbformat_minor": 2
}
