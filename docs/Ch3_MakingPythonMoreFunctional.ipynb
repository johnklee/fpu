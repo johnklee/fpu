{
 "cells": [
  {
   "cell_type": "markdown",
   "metadata": {},
   "source": [
    "# <font color='darkblue'>Preface</font>\n",
    "This <a href='http://localhost/jforum/posts/list/4075.page'>chapter</a> covers \n",
    "* Making standard control structures functional \n",
    "* Abstracting control structures \n",
    "* Abstracting iteration \n",
    "* Using the right types\n",
    "\n",
    "You now have all the types of functions you’ll need. As you saw in the <b><a href='http://localhost/jforum/posts/list/4070.page'>previous chapter</a></b>, these functions don’t require any exceptions to the traditional Java coding rules. Using methods as pure functions (<font color='brown'>a.k.a. functional methods</font>) is perfectly in line with most so-called Java best practices. You haven’t changed the rules or added any exotic constructs. You’ve just added <b>some restrictions about what functional methods can do: they can return a value, and that’s all. They can’t mutate any objects or references in the enclosing scope, nor their arguments. In the first part of this chapter, you’ll learn how to apply the same principles to Java control structures</b>. \n",
    "\n",
    "<b>In the second part of this chapter, you’ll learn how to abstract collection operations and control structures to use the power of functions.</b> The last part of the chapter presents techniques that will allow you to get the most out of the type system when handling business problems. \n",
    "\n",
    "# <font color='darkblue'>Making standard control structures functional </font>\n",
    "<b>Control structures are the main building blocks of imperative programming</b>. No imperative Java programmer would believe it’s possible to write programs without using if ... else, switch ... case, and for, while, and do loops. These structures are the essence of imperative programming. But in the following chapters, you’ll learn how to write functional programs with absolutely no control structures. <b>In this section, you’ll be less adventurous—we’ll only look at using the traditional control structures in a more functional style.</b> \n",
    "\n",
    "One point you learned in <a href='https://www.safaribooksonline.com/library/view/functional-programming-in/9781617292736/kindle_split_009.html#ch02'><b>chapter 2</b></a> is that purely functional methods can’t do anything but return a value. They can’t mutate an object or reference in the enclosing scope. The value returned by a method can depend only on its arguments, although the method can read data in the enclosing scope. In such a case, the data is considered to be implicit arguments. In imperative programming, control structures define a scope in which they generally do something, which means they have an effect. This effect might be visible only inside the scope of the control structure, or it might be visible in the enclosing scope. The control structures might also access the enclosing scope to read values. The following listing shows a basic example of email validation:\n",
    "```python\n",
    "import re\n",
    "\n",
    "emailPtn = re.compile('^[a-z0-9._%+-]+@[a-z0-9.-]+\\\\.[a-z]{2,4}$')\n",
    "\n",
    "def testMail(email):\n",
    "    if emailPtn.match(email):\n",
    "        sendVerificationMail(email)\n",
    "    else:\n",
    "        logError('Email {} is invalid'.format(email))\n",
    "\n",
    "def sendVerificationMail(email):\n",
    "    print('Verification mail is sent to {}'.format(email))\n",
    "\n",
    "def logError(msg):\n",
    "    print('Error msg: {}'.format(msg))\n",
    "```\n",
    "<b><font color='darkblue'>Listing 3.1. Simple email validation</font> </b>\n",
    "\n",
    "# <font color='darkblue'>Abstracting control structures </font>\n",
    "The code in listing 3.1 is purely imperative. You’ll never find such code in functional programming. <b>Although the <font color='blue'>testMail</font> method seems to be a pure effect because it doesn’t return anything, it mixes data processing with effects. This is something you want to avoid, because it results in code that’s impossible to test.</b> Let’s see how you can clean this up. \n",
    "\n",
    "<b>The first thing you may want to do is separate computation and effects so you can test the computation result</b>. This could be done imperatively, but I prefer to use a function, as shown in the following listing.\n",
    "```python\n",
    "emailPtn = re.compile('^[a-z0-9._%+-]+@[a-z0-9.-]+\\\\.[a-z]{2,4}$')\n",
    "# Compose email checker as a external function for testing\n",
    "emailChecker = lambda e: emailPtn.match(e)\n",
    "\n",
    "def testMail(email):\n",
    "    if emailChecker(email):\n",
    "        sendVerificationMail(email)\n",
    "    else:\n",
    "        logError('Email {} is invalid'.format(email))\n",
    "```\n",
    "<b><font color='darkblue'>Listing 3.2. Using a function to validate the email </font></b>\n",
    "\n",
    "Now you can test the data processing part of the program (<font color='brown'>validating the email string</font>) because you’ve clearly separated it from the effects. But you still have many problems. One is that you handle only the case where the string doesn’t validate. But if the string received is None, a <font color='blue'><b>TypeError</b></font>  is thrown. Consider the following example: \n",
    "```python\n",
    "testMail(\"john.doe@acme.com\");\n",
    "testMail(None);\n",
    "testMail(\"paul.smith@acme.com\");\n",
    "```\n",
    "The third line won’t be executed, even though the email address is valid, because the NPE thrown by the second line kills the thread. It would be better to get a logged message indicating what happened, and to continue processing the next address. Another problem appears if you receive an empty string: \n",
    "```python\n",
    "testMail(\"\");  \n",
    "```\n",
    "This won’t cause an error, but the address won’t validate, and the following message will be logged:\n",
    "> <font color='green'>email is invalid.</font>\n",
    "\n",
    "The double space (between “email” and “is”) indicates that the string was empty. A specific message would be better, such as this: \n",
    "> <font color='green'>email must not be empty.</font>\n",
    "\n",
    "To handle these problems, we define a class <font color='blue'><b>Result</b></font> to handle this kind of case. So you can write your new version of the program:"
   ]
  },
  {
   "cell_type": "code",
   "execution_count": 1,
   "metadata": {},
   "outputs": [
    {
     "name": "stdout",
     "output_type": "stream",
     "text": [
      "Error message logged: email this.is@my.email is invalid.\n",
      "Mail sent to test@abc.com\n",
      "Error message logged: email must not be null\n",
      "Error message logged: email must not be empty\n"
     ]
    }
   ],
   "source": [
    "import re\n",
    "from fpu.fp import *\n",
    "\n",
    "class EmailValidation:\n",
    "    emailPattern = re.compile(\"^[a-z0-9._%+-]+@[a-z0-9.-]+\\\\.[a-z]{2,4}$\")\n",
    "    \n",
    "    def emailChecker(self, e):\n",
    "        if e is None:\n",
    "            return Result.failure('email must not be null')\n",
    "        elif len(e.strip()) == 0:\n",
    "            return Result.failure('email must not be empty')\n",
    "        elif self.emailPattern.match(e):\n",
    "            return Result.success()\n",
    "        else:\n",
    "            return Result.failure(\"email \" + e + \" is invalid.\")\n",
    "        \n",
    "    def logError(self, s):\n",
    "        print(\"Error message logged: \" + s)\n",
    "        \n",
    "    def sendVerificationMail(self, s):\n",
    "        print(\"Mail sent to \" + s)\n",
    "        \n",
    "    def validate(self, e):\n",
    "        rst = self.emailChecker(e)\n",
    "        if isinstance(rst, Success):\n",
    "            self.sendVerificationMail(e)\n",
    "        else:\n",
    "            self.logError(rst.message)\n",
    "            \n",
    "ev = EmailValidation()\n",
    "ev.validate('this.is@my.email')\n",
    "ev.validate('test@abc.com')\n",
    "ev.validate(None)\n",
    "ev.validate('')"
   ]
  },
  {
   "cell_type": "markdown",
   "metadata": {},
   "source": [
    "But this still isn’t satisfactory. Using <a href='https://docs.python.org/2/library/functions.html#isinstance'>isinstance</a> to determine whether the result is a success is ugly. <b>But worse than this is the fact that you have some program logic in the <font color='blue'>validate</font> method that can’t be tested. This is because the method is an effect, which means it doesn’t return a value but mutates the outside world. </b> Is there a way to fix this? Yes. Instead of sending an email or logging a message, you could return a small program that does the same thing. Instead of executing:\n",
    "```python\n",
    "sendVerificationMail(s)  \n",
    "```\n",
    "\n",
    "and\n",
    "```python\n",
    "logError(((Result.Failure) result).getMessage());  \n",
    "```\n",
    "\n",
    "you could return instructions that, when executed, will produce the same results. Thanks to lambdas, you can do this easily. Here we provide class <b><font color='blue'>Supplier</font></b> to store the execution step. So you can easily change your program, as shown in the following listing: "
   ]
  },
  {
   "cell_type": "code",
   "execution_count": 2,
   "metadata": {},
   "outputs": [
    {
     "name": "stdout",
     "output_type": "stream",
     "text": [
      "Error message logged: email this.is@my.email is invalid.\n",
      "Mail sent to test@abc.com\n",
      "Error message logged: email must not be null\n",
      "Error message logged: email must not be empty\n"
     ]
    }
   ],
   "source": [
    "class EmailValidation2:\n",
    "    emailPattern = re.compile(\"^[a-z0-9._%+-]+@[a-z0-9.-]+\\\\.[a-z]{2,4}$\")\n",
    "    \n",
    "    def emailChecker(self, e):\n",
    "        if e is None:\n",
    "            return Result.failure('email must not be null')\n",
    "        elif len(e.strip()) == 0:\n",
    "            return Result.failure('email must not be empty')\n",
    "        elif self.emailPattern.match(e):\n",
    "            return Result.success()\n",
    "        else:\n",
    "            return Result.failure(\"email \" + e + \" is invalid.\")\n",
    "        \n",
    "    def logError(self, s):\n",
    "        print(\"Error message logged: \" + s)\n",
    "        \n",
    "    def sendVerificationMail(self, s):\n",
    "        print(\"Mail sent to \" + s)\n",
    "        \n",
    "    # (2)\n",
    "    def validate(self, e):\n",
    "        rst = self.emailChecker(e)\n",
    "        if isinstance(rst, Success):\n",
    "            return Supplier(self.sendVerificationMail, e)\n",
    "        else:\n",
    "            return Supplier(self.logError, rst.message)\n",
    "        \n",
    "ev = EmailValidation2()\n",
    "# (1)\n",
    "ev.validate('this.is@my.email')()\n",
    "ev.validate('test@abc.com')()\n",
    "ev.validate(None)()\n",
    "ev.validate('')()    "
   ]
  },
  {
   "cell_type": "markdown",
   "metadata": {},
   "source": [
    "The validate method (2) now returns <b><font color='blue'>Supplier</font></b> instead of void. It no longer has any side effect, and it’s a pure function. When an <b><font color='blue'>Supplier</font></b> is returned (1), it can be executed by calling it directly. Note that the <b><font color='blue'>Supplier</font></b> could also be passed to other methods or stored away to be executed later. In particular, it could be put in a data structure and executed in sequence after all computations are done. <b>This allows you to separate the functional part of the program from the part that mutates the environment</b>. \n",
    "\n",
    "## <font color='green'>Cleaning up the code </font>\n",
    "Your <font color='blue'>validate</font> method is now functional, but it’s dirty. Using the <a href='https://docs.python.org/2/library/functions.html#isinstance'>isinstance</a> operator is almost always an indication of bad code. Another problem is that reusability is low. When the <font color='blue'>validate</font> method returns a value, you have no choice besides executing it or not. What if you want to reuse the <font color='blue'>validate</font> part but produce a different effect?\n",
    "\n",
    "The <font color='blue'>validate</font> method shouldn’t have a dependency on <font color='blue'>sendVerificationMail</font> or <font color='blue'>logError</font>. <b>It should only return a result expressing whether the email is valid, and you should be able to choose whatever effects you need for success or failure</b>. Or you might prefer not to apply the effect but to compose the result with some other processing. Let's try to decouple the <font color='blue'>validate</font> from the effects applied:"
   ]
  },
  {
   "cell_type": "code",
   "execution_count": 3,
   "metadata": {},
   "outputs": [
    {
     "name": "stdout",
     "output_type": "stream",
     "text": [
      "Error message logged: email this.is@my.email is invalid.\n",
      "Mail sent to test@abc.com\n",
      "Error message logged: email must not be None\n",
      "Error message logged: email must not be empty\n"
     ]
    }
   ],
   "source": [
    "# Listing 3.7. A cleaner version of the program \n",
    "class EmailValidation3:\n",
    "    emailPattern = re.compile(\"^[a-z0-9._%+-]+@[a-z0-9.-]+\\\\.[a-z]{2,4}$\")\n",
    "    class SuccessEft(Effect):\n",
    "        def call(self, s):\n",
    "            print(\"Mail sent to {}\".format(s))\n",
    "            \n",
    "    class FailureEft(Effect): \n",
    "        def call(self, s):\n",
    "            print(\"Error message logged: {}\".format(s))\n",
    "    \n",
    "    def emailChecker(self, e):\n",
    "        if e is None:\n",
    "            return Result.failure('email must not be None')\n",
    "        elif len(e.strip()) == 0:\n",
    "            return Result.failure('email must not be empty')\n",
    "        elif self.emailPattern.match(e):\n",
    "            return Result.success(e)\n",
    "        else:\n",
    "            return Result.failure(\"email \" + e + \" is invalid.\")\n",
    "        \n",
    "\n",
    "ev = EmailValidation3()\n",
    "st = EmailValidation3.SuccessEft()\n",
    "ft = EmailValidation3.FailureEft()\n",
    "# (1)\n",
    "ev.emailChecker('this.is@my.email').bind(st, ft)  # .bind(SuccessEffect, FailureEffect)\n",
    "ev.emailChecker('test@abc.com').bind(st, ft)\n",
    "ev.emailChecker(None).bind(st, ft)\n",
    "ev.emailChecker('').bind(st, ft)"
   ]
  },
  {
   "cell_type": "markdown",
   "metadata": {},
   "source": [
    "The <font color='blue'>validate</font> method has been removed, and two <font color='blue'>Effect</font> instances are now defined : one for success and one for failure. These two effects are bound to the result of the <font color='blue'>emailChecker</font> function. \n",
    "\n",
    "## <font color='green'>An alternative to if ... else</font>\n",
    "You may wonder whether it’s possible to completely remove conditional structures or operators. Can you write a program without any of these constructs? This may seem impossible, because many programmers have learned that decision-making is the basic building block of programming. <b>But decision-making is an imperative programming notion. It’s the notion of examining a value and deciding what to do next based on this observation. In functional programming, there’s no “what to do next” question, but only functions returning values.</b> The most basic if structure may be seen as the implementation of a function: \n",
    "```java\n",
    "if x > 0:  \n",
    "  return x  \n",
    "else  \n",
    "  return -x  \n",
    "```\n",
    "This is a function of <i>x</i>. It returns the absolute value of <i>x</i>. You could write this function as follows: \n",
    "```python\n",
    "abs = lambda x: x if x > 0 else -x\n",
    "```\n",
    "The difference with a function such as:\n",
    "```python\n",
    "square = lambda x: x * x\n",
    "```\n",
    "is that you have two implementations of the function and have to choose between the two depending on the value of the argument. This isn’t a big problem, but what if you had many possible implementations? You’d end up with as many embedded if ... else structures as you have in listing 3.7.\n",
    "\n",
    "Here we will use <b><font color='blue'>Case</font></b> class representing a condition and corresponding result. The condition will be represented by a <b><font color='blue'>Supplier</font></b>, where <b><font color='blue'>Supplier</font></b> is a functional interface such as this:\n",
    "```python\n",
    "class Supplier:\n",
    "    def __init__(self, func, *args):\n",
    "        self.func = func\n",
    "        self.args = args\n",
    "\n",
    "    def __call__(self):\n",
    "        return self.func(*self.args)\n",
    "```\n",
    "The result corresponding to the condition will be represented by a <b><font color='blue'>Supplier</font></b>. To hold both, you can use a <b>Tuple<Supplier<Boolean>, Supplier<Result<T>>></b>. The <b><font color='blue'>Case</font></b> class should define three methods: \n",
    "```python\n",
    "    @staticmethod\n",
    "    def mcase(cond, rst):\n",
    "        r'''\n",
    "        Conditional clause\n",
    "        '''\n",
    "        ...\n",
    "\n",
    "    @staticmethod\n",
    "    def default(rst):\n",
    "        r'''\n",
    "        Default clause\n",
    "        '''\n",
    "        ...\n",
    "\n",
    "    @staticmethod\n",
    "    def match(dftCase, *matches):\n",
    "        r'''\n",
    "        Perform matching clause\n",
    "        '''\n",
    "        ...    \n",
    "```\n",
    "The first <font color='blue'>mcase</font> method defines a normal case, with a condition and a resulting value. The second <font color='blue'>default</font> method defines a default case. The third method, <font color='blue'>match</font>, selects a case. Because this method uses a vararg, the default case (_dftCase_) is to be put first, but will be the last to be used!\n",
    "\n",
    "Now you can greatly simplify the code of your email validation application. As you can see in the following listing, it contains absolutely no control structures:"
   ]
  },
  {
   "cell_type": "code",
   "execution_count": 4,
   "metadata": {},
   "outputs": [
    {
     "name": "stdout",
     "output_type": "stream",
     "text": [
      "Error message logged: email this.is@my.email is invalid.\n",
      "Mail sent to test@abc.com\n",
      "Error message logged: email must not be None\n",
      "Error message logged: email must not be empty\n"
     ]
    }
   ],
   "source": [
    "# Listing 3.9. The email validation application with no control structures\n",
    "from fpu.fp import *\n",
    "\n",
    "class EmailValidation4:\n",
    "    emailPattern = re.compile(\"^[a-z0-9._%+-]+@[a-z0-9.-]+\\\\.[a-z]{2,4}$\")\n",
    "    class SuccessEft(Effect):\n",
    "        def call(self, s):\n",
    "            print(\"Mail sent to {}\".format(s))\n",
    "            \n",
    "    class FailureEft(Effect): \n",
    "        def call(self, s):\n",
    "            print(\"Error message logged: {}\".format(s))\n",
    "            \n",
    "    def emailChecker(self, e):      \n",
    "        # if/else is gone\n",
    "        return Case.match(\n",
    "                          Case.default(Result.failure(\"email \" + str(e) + \" is invalid.\")),                                              # Default Case\n",
    "                          Case.mcase(Supplier(lambda e: e is None, e), \n",
    "                                     Result.failure('email must not be None')),    \n",
    "                          Case.mcase(Supplier(lambda e: len(e.strip()) == 0, e), \n",
    "                                     Result.failure('email must not be empty')),\n",
    "                          Case.mcase(Supplier(lambda e: self.emailPattern.match(e)!=None, e), \n",
    "                                     Result.success(e))\n",
    "                          )\n",
    "    \n",
    "ev = EmailValidation4()\n",
    "st = EmailValidation3.SuccessEft()\n",
    "ft = EmailValidation3.FailureEft()\n",
    "# (1)\n",
    "ev.emailChecker('this.is@my.email').bind(st, ft)  # .bind(SuccessEffect, FailureEffect)\n",
    "ev.emailChecker('test@abc.com').bind(st, ft)\n",
    "ev.emailChecker(None).bind(st, ft)\n",
    "ev.emailChecker('').bind(st, ft)    "
   ]
  },
  {
   "cell_type": "markdown",
   "metadata": {},
   "source": [
    "# <font color='darkblue'>Abstracting iteration </font>\n",
    "Getting back to loops, their main use is to iterate over all elements of a list, as follows: \n",
    "```python\n",
    "for mail in mailList:\n",
    "    # Do something with email\n",
    "    pass\n",
    "\n",
    "for i in range(len(mailList)):\n",
    "    mail = mailList[i]\n",
    "    # Do something with email\n",
    "```\n",
    "What’s important is what’s done inside the loop, so why should you have to write the loops again and again? Why can’t you just say what you want done and have it be done without messing with the control structures, the conditions, and the indexes? \n",
    "\n",
    "Inside a loop, you might want to do several things: \n",
    "* Transform each element into something else \n",
    "* Aggregate elements into a single result \n",
    "* Remove some elements according to a condition on the elements \n",
    "* Remove some elements according to an external condition \n",
    "* Group elements according to certain criteria\n",
    "\n",
    "Various operations for which looping is needed can be applied to collections, such as concatenating, zipping, or unzipping. (<font color='brown'>Zipping means taking elements from two lists and creating a list of tuples. Unzipping is the inverse operation.</font>) All these operations could be abstracted. In chapter 5, you’ll create functional data structures implementing all these abstractions. For now, you’ll develop a library of these abstractions that you can apply to legacy Python collections. \n",
    "\n",
    "## <font color='green'>Abstracting an operation on lists with mapping</font>\n",
    "Mapping, when applied to collections, means applying a transformation to each element of the collection. Here’s how it’s generally done in traditional imperative programming: \n",
    "```python\n",
    "datas = [1, 2, 3, 4, 5]\n",
    "new_datas = []\n",
    "for e in datas:\n",
    "    new_datas.append(e * 1.2)\n",
    "```\n",
    "\n",
    "In this example, an operation is applied to each element of an Integer list (integerList) to increase it by 20%. The result of the operation is a double, so it’s put in a new list that’s created before the start of the loop. Although simple, this program raises some interesting questions. The first point is that you could separate the iteration from the calculation. The following example does this with a method:\n",
    "```python\n",
    "def addTwentyPercent(e):\n",
    "    return e * 1.2\n",
    "\n",
    "datas = [1, 2, 3, 4, 5]\n",
    "new_datas = []\n",
    "for e in datas:\n",
    "    new_datas.append(addTwentyPercent(e))\n",
    "```\n",
    "\n",
    "This allows you to reuse the calculation, but it doesn’t allow you to reuse the loop. Fortunately, Python has built-in function <a href='https://docs.python.org/3/library/functions.html#map'>map</a> to carry out the loop operation on every element of list. For example:"
   ]
  },
  {
   "cell_type": "code",
   "execution_count": 5,
   "metadata": {},
   "outputs": [
    {
     "name": "stdout",
     "output_type": "stream",
     "text": [
      "datas=[1, 2, 3, 4, 5]\n",
      "datas increased by 20%=[1.2, 2.4, 3.5999999999999996, 4.8, 6.0]\n"
     ]
    }
   ],
   "source": [
    "def addTwentyPercent(e):\n",
    "    return e * 1.2\n",
    "\n",
    "datas = [1, 2, 3, 4, 5]\n",
    "print('datas=%s' % datas)\n",
    "print('datas increased by 20%={}'.format(map(addTwentyPercent, datas)))"
   ]
  },
  {
   "cell_type": "markdown",
   "metadata": {},
   "source": [
    "## <font color='green'>Reducing and folding lists </font>\n",
    "<b>List folding transforms a list into a single value by using a specific operation</b>. The resulting value may be of any type—it doesn’t have to be of the same type as the elements of the list. <b>Folding to a result that’s the same type as the list elements is a specific case called reducing. Computing the sum of the elements of a list of integers is a simple case of reducing</b>. You can fold a list in two directions, from left to right or from right to left, depending on the operation used: \n",
    "* If the operation is commutative, both ways of folding are equivalent. \n",
    "* If the operation isn’t commutative, the two ways of folding give different results.\n",
    "\n",
    "<b>Folding needs a starting value, which is the neutral element, or identity element, for the operation. This element is used as the starting value of the accumulator</b>. When the computation is complete, the accumulator contains the result. Reducing, on the other hand, can be done without a starting element, with the condition that the list isn’t empty, because the first (<font color='brown'>or last</font>) element will be used as the starting element. \n",
    "<br/>\n",
    "### Reducing lists of numbers with addition\n",
    "Suppose you have a list, (1, 2, 3, 4), and you want to compute the sum of the elements. The first way to do it is to put the accumulator on the left side of the operand: \n",
    "```\n",
    "(((0 + 1) + 2) + 3) + 4 = 10\n",
    "```\n",
    "\n",
    "You could also proceed from the other side: \n",
    "```\n",
    "1 + (2 + (3 + (4 + 0))) = 10\n",
    "```\n",
    "The results are identical. You could do the same thing with multiplication, but you’d have to use the identity element 1 as the starting value of the accumulator. \n",
    "\n",
    "### Folding lists of characters into strings \n",
    "Let’s now do the same thing with a different operation applied to a list of characters, ('a', 'b', 'c'). First, let’s fold from the left: \n",
    "```\n",
    "((\"\" + 'a') + 'b') + 'c' = \"abc\"\n",
    "```\n",
    "Let’s now try the same thing from the right: \n",
    "```\n",
    "'a' + ('b' + ('c' + \"\")) = \"abc\"  \n",
    "```\n",
    "The first fold is called a left fold, which means that the accumulator is on the left side of the operation. When the accumulator is on the right side, it’s a right fold. \n",
    "\n",
    "### Understanding the relationship between left and right folds\n",
    "You might say that folding right can be defined in terms of folding left. Let’s rewrite the right-folding operation by using a different form, called <b><font color='darkblue'>corecursion</font></b>: \n",
    "```\n",
    "((0 + 3) + 2) + 1 = 6\n",
    "```\n",
    "In recursion as well as corecursion, evaluation of one step is dependent on the previous step. But a recursive definition starts with the last step and defines its relationship with the preceding one. In order to be able to conclude, it also has to define the base step. Corecursion, on the other hand, starts from the first step and defines its relationship to the next one. There’s no need for a base step, because it’s also the first step. <b>From this, it seems that right-folding a list is equivalent to left-folding the list after having reversed the order of the elements</b>. \n",
    "\n",
    "<font color='red'>But wait. Addition is a commutative operation. If you use a noncommutative operation, you must change the operation as well.</font> If you don’t, you could end up with two different situations, depending on the types. If the operation has operands of different types, if won’t compile. On the other hand, if the operation has operands of the same types but it isn’t commutative, you’ll get a wrong result with no error. So foldLeft and foldRight have the following relationship, where operation1 and operation2 give the same results with the same operands in reverse order:\n",
    "```\n",
    "foldLeft(list, acc, x -> y -> operation1)  \n",
    "```\n",
    "is equivalent to \n",
    "```\n",
    "foldRight(reverse(list), acc, y -> x -> operation2) \n",
    "```\n",
    "\n",
    "### Left-folding example \n",
    "The operation you just defined was named fold because folding left or right for integer addition or multiplication gives the same result. But if you want to use other functions, or <b>if you want to make the folding method generic, you must distinguish between right and left folds</b>. Let's generalize the fold method to foldLeft so that it can be used to apply a left fold to a list of elements of arbitrary types (<font color='brown'>Exercise 3.6</font>). To test that the method is correct, apply it to the following parameters, "
   ]
  },
  {
   "cell_type": "code",
   "execution_count": 6,
   "metadata": {},
   "outputs": [
    {
     "data": {
      "text/plain": [
       "'(((((0 + 1) + 2) + 3) + 4) + 5)'"
      ]
     },
     "execution_count": 6,
     "metadata": {},
     "output_type": "execute_result"
    }
   ],
   "source": [
    "from fpu import fp\n",
    "alist = [1, 2, 3, 4, 5]\n",
    "idy = '0'  # Identity\n",
    "fp.CollectionUtils.foldLeft(alist, idy, lambda x,y: \"({} + {})\".format(x, y))"
   ]
  },
  {
   "cell_type": "markdown",
   "metadata": {},
   "source": [
    "### Right-folding example \n",
    "As you saw previously, <b>folding left is a corecursive operation, so implementing it through an imperative loop is easy. On the other hand, folding right is a recursive operation</b>. Now let's take a look at right folding example:"
   ]
  },
  {
   "cell_type": "code",
   "execution_count": 7,
   "metadata": {},
   "outputs": [
    {
     "data": {
      "text/plain": [
       "'(1 + (2 + (3 + (4 + (5 + 0)))))'"
      ]
     },
     "execution_count": 7,
     "metadata": {},
     "output_type": "execute_result"
    }
   ],
   "source": [
    "fp.CollectionUtils.foldRight(alist, idy, lambda x,y: \"({} + {})\".format(x, y))"
   ]
  },
  {
   "cell_type": "markdown",
   "metadata": {},
   "source": [
    "### Reversing a list\n",
    "Reversing a list is sometimes useful, although this operation is generally not optimal in terms of performance. Finding other solutions that don’t require reversing a list is preferable, but not always possible. Defining a reverse method with an imperative implementation is easy by iterating backward over the list. You must be careful, though, not to mess with the indexes: "
   ]
  },
  {
   "cell_type": "code",
   "execution_count": 8,
   "metadata": {},
   "outputs": [
    {
     "name": "stdout",
     "output_type": "stream",
     "text": [
      "[78, 596, 638, 570, 291, 897, 814, 803, 214, 336]\n",
      "[336, 214, 803, 814, 897, 291, 570, 638, 596, 78]\n"
     ]
    }
   ],
   "source": [
    "import random\n",
    "\n",
    "alist = []\n",
    "for i in range(10):\n",
    "    alist.append(random.randint(1, 1000))\n",
    "\n",
    "def reverse(alist):\n",
    "    r'''\n",
    "    Imperative implementation for reversing list\n",
    "    '''\n",
    "    nlist = []\n",
    "    for i in range(len(alist)-1, -1, -1):\n",
    "        nlist.append(alist[i])\n",
    "        \n",
    "    return nlist\n",
    "    \n",
    "print(alist)        \n",
    "print(reverse(alist))"
   ]
  },
  {
   "cell_type": "markdown",
   "metadata": {},
   "source": [
    "The code above is straight forward and easy to understand. However the code is not neat and cute enough:"
   ]
  },
  {
   "cell_type": "code",
   "execution_count": 9,
   "metadata": {},
   "outputs": [
    {
     "data": {
      "text/plain": [
       "[336, 214, 803, 814, 897, 291, 570, 638, 596, 78]"
      ]
     },
     "execution_count": 9,
     "metadata": {},
     "output_type": "execute_result"
    }
   ],
   "source": [
    "fp.CollectionUtils.foldRight(alist, [], lambda e, nlist: nlist + [e])"
   ]
  },
  {
   "cell_type": "markdown",
   "metadata": {},
   "source": [
    "<b>Part of the beauty of functional programming is in finding every small element that can be abstracted and reused</b>. After you get used to this way of thinking, you’ll start seeing patterns everywhere and you’ll want to abstract them. You could define lots of other useful functions by composing the basic list functions you just wrote. But we’ll delay their study until <a href='https://www.safaribooksonline.com/library/view/functional-programming-in/9781617292736/kindle_split_012.html#ch05'>chapter 5</a>\n",
    "\n",
    "## <font color='green'>Composing mappings and mapping compositions</font>\n",
    "It isn’t unusual to apply several transformations to list elements. Imagine you have a list of prices, and you want to apply a 9% tax to all, and then add a fixed charge of $3.50 for shipping. You can do this by composing two mappings: "
   ]
  },
  {
   "cell_type": "code",
   "execution_count": 10,
   "metadata": {},
   "outputs": [
    {
     "name": "stdout",
     "output_type": "stream",
     "text": [
      "[14.509, 29.0605, 38.456300000000006, 13.5607]\n"
     ]
    }
   ],
   "source": [
    "prices = [10.10, 23.45, 32.07, 9.23]\n",
    "pricesIncludingTax = map(lambda e: e * 1.09, prices)\n",
    "pricesIncludingShipping = map(lambda e: e + 3.5, pricesIncludingTax)\n",
    "print(pricesIncludingShipping)"
   ]
  },
  {
   "cell_type": "markdown",
   "metadata": {},
   "source": [
    "It works but it isn’t efficient, because mapping is applied twice. You could obtain the same result with this"
   ]
  },
  {
   "cell_type": "code",
   "execution_count": 11,
   "metadata": {},
   "outputs": [
    {
     "data": {
      "text/plain": [
       "[14.509, 29.0605, 38.456300000000006, 13.5607]"
      ]
     },
     "execution_count": 11,
     "metadata": {},
     "output_type": "execute_result"
    }
   ],
   "source": [
    "map(lambda e: e + 3.5,  map(lambda e: e * 1.09, prices))"
   ]
  },
  {
   "cell_type": "markdown",
   "metadata": {},
   "source": [
    "But this is still mapping twice. <b>A much better solution is to compose the functions instead of composing mappings, or, in other words, to map the composition instead of composing mappings</b>: "
   ]
  },
  {
   "cell_type": "code",
   "execution_count": 12,
   "metadata": {},
   "outputs": [
    {
     "data": {
      "text/plain": [
       "[14.509, 29.0605, 38.456300000000006, 13.5607]"
      ]
     },
     "execution_count": 12,
     "metadata": {},
     "output_type": "execute_result"
    }
   ],
   "source": [
    "f = lambda e: e + 3.5\n",
    "g = lambda e: e * 1.09\n",
    "uprice = fp.compose2(f, g)  # f(g(x)) \n",
    "map(uprice, prices)"
   ]
  },
  {
   "cell_type": "markdown",
   "metadata": {},
   "source": [
    "## <font color='green'>Applying effects to lists</font>\n",
    " In a real situation, you’d probably apply more-sophisticated effects to each element of the list. You could, for example, print each price after formatting it to display only two decimal digits. This could be done through iteration:"
   ]
  },
  {
   "cell_type": "code",
   "execution_count": 13,
   "metadata": {},
   "outputs": [
    {
     "name": "stdout",
     "output_type": "stream",
     "text": [
      "14.51\n",
      "29.06\n",
      "38.46\n",
      "13.56\n"
     ]
    }
   ],
   "source": [
    "for price in pricesIncludingShipping:\n",
    "    print(\"{:.02f}\".format(price))"
   ]
  },
  {
   "cell_type": "markdown",
   "metadata": {},
   "source": [
    "But once again, you’re mixing actions that could be abstracted. <b>Iteration can be abstracted exactly as you did for mapping, and the effect applied to each element could be abstracted into something resembling a function, but with a side effect and no return value</b>. This is exactly what the <font color='violet'><b>Effect</b></font> you used in below user case:"
   ]
  },
  {
   "cell_type": "code",
   "execution_count": 14,
   "metadata": {},
   "outputs": [
    {
     "name": "stdout",
     "output_type": "stream",
     "text": [
      "14.51\n",
      "29.06\n",
      "38.46\n",
      "13.56\n"
     ]
    }
   ],
   "source": [
    "class PrintEfft(fp.Effect):\n",
    "    def call(self, value):\n",
    "        print('{:.02f}'.format(value))\n",
    "\n",
    "fp.CollectionUtils.forEach(pricesIncludingShipping, PrintEfft())"
   ]
  },
  {
   "cell_type": "markdown",
   "metadata": {},
   "source": [
    "This seems to be much more code, but the <font color='blue'><b>PrintEfft</b></font> class and the <font color='blue'>forEach</font> method can be written once and reused, so you can test each of them in isolation. Your business code is reduced to only one line. \n",
    "\n",
    "## <font color='green'>Approaching functional output</font>\n",
    "With the <font color='blue'>forEach</font> method, you can somewhat abstract side effects. You abstracted effect application so it can be isolated, but you could go much further. With the <font color='blue'>forEach</font> method, one single effect is applied to each element of the list. It would be nice to be able to compose these effects into a single one. Think about it as a fold resulting in a single effect. If you could do this, your program could be a fully functional one with absolutely no side effects. <b>It would produce a new program, with no control structures but a single list of effects that would be applied one after the other</b>. Let’s do this! "
   ]
  },
  {
   "cell_type": "code",
   "execution_count": 15,
   "metadata": {},
   "outputs": [
    {
     "name": "stdout",
     "output_type": "stream",
     "text": [
      "14.51\n",
      "29.06\n",
      "Great than 20!\n",
      "38.46\n",
      "Great than 20!\n",
      "13.56\n"
     ]
    },
    {
     "data": {
      "text/plain": [
       "(None,)"
      ]
     },
     "execution_count": 15,
     "metadata": {},
     "output_type": "execute_result"
    }
   ],
   "source": [
    "def printEffect(i, e):\n",
    "    print('{:.02f}'.format(e))\n",
    "    return e\n",
    "\n",
    "def gt20(e):\n",
    "    if e > 20:\n",
    "        print('Great than 20!')\n",
    "    \n",
    "fun = Fun(printEffect).andThen(gt20)    \n",
    "\n",
    "sup = fp.Supplier(fp.CollectionUtils.foldLeft, pricesIncludingShipping, None, fun)  # Portable function object\n",
    "sup()"
   ]
  },
  {
   "cell_type": "markdown",
   "metadata": {},
   "source": [
    "## <font color='green'>Building corecursive lists</font>\n",
    "<b>One thing programmers do again and again is build corecursive lists, and most of these are lists of integers.</b> consider the following example:\n",
    "```python\n",
    "for i in range(limit):\n",
    "    pass # Some processing\n",
    "```\n",
    "\n",
    "This code is a composition of two abstractions: a corecursive list and some processing. <b>The corecursive list is a list of integers from 0 (included) to limit (excluded)</b>. As we’ve already noted, functional programming is, among other things, about pushing abstraction to the limit. So let’s abstract the construction of this corecursive list. As I mentioned earlier, <b>corecursive means that each element can be constructed by applying a function to the previous element, starting from the first one.</b> This is what distinguishes corecursive from recursive constructs. (In recursive constructs, each element is a function of the previous one, starting with the last one.) We’ll come back to this difference in <b><a href='https://www.safaribooksonline.com/library/view/functional-programming-in/9781617292736/kindle_split_011.html#ch04'>chapter 4</a></b>, but for now, this means that corecursive lists are easy to construct.\n",
    "\n",
    "Let's say if we want to generate a <b><a href='https://en.wikipedia.org/wiki/Fibonacci_number'>Fibonacci number</a></b> series with length as 10:"
   ]
  },
  {
   "cell_type": "code",
   "execution_count": 16,
   "metadata": {},
   "outputs": [
    {
     "name": "stdout",
     "output_type": "stream",
     "text": [
      "[1, 1]\n"
     ]
    }
   ],
   "source": [
    "fibon_series_10 = [1, 1]\n",
    "\n",
    "# loop approach\n",
    "#while len(fibon_series_10) < 10:\n",
    "#    fibon_series_10.append(fibon_series_10[-1] + fibon_series_10[-2])\n",
    "\n",
    "# Recursive\n",
    "def fib_recv(series, length):\n",
    "    if len(series) == length:\n",
    "        return series\n",
    "    \n",
    "    if len(series) < 2:\n",
    "        series.append(1)\n",
    "        return fib_recv(series, length)\n",
    "    else:\n",
    "        series.append(series[-1])\n",
    "\n",
    "print(fibon_series_10)"
   ]
  },
  {
   "cell_type": "markdown",
   "metadata": {},
   "source": [
    "But with FP, the code is more easy to read:"
   ]
  },
  {
   "cell_type": "code",
   "execution_count": 17,
   "metadata": {},
   "outputs": [
    {
     "name": "stdout",
     "output_type": "stream",
     "text": [
      "[1, 1, 2, 3, 5, 8, 13, 21, 34, 55]\n"
     ]
    }
   ],
   "source": [
    "def fib_unfold(t):\n",
    "    if len(t) == 0:\n",
    "        t.append(1)        \n",
    "    elif len(t) == 1:\n",
    "        t.append(1)        \n",
    "    else:\n",
    "        t.append(t[-1] + t[-2])\n",
    "        \n",
    "    return t\n",
    "\n",
    "fibon_series_10 = []\n",
    "fp.CollectionUtils.unfold(fibon_series_10, fib_unfold, lambda t: len(t) < 10)\n",
    "print(fibon_series_10)"
   ]
  },
  {
   "cell_type": "markdown",
   "metadata": {},
   "source": [
    "Above sample code introduced the functional call <font color='blue'>unfold</font> which takes three parameters:\n",
    "```python\n",
    "    @staticmethod\n",
    "    def unfold(seed, f, p):\n",
    "        r'''\n",
    "        @param seed:\n",
    "            The input argument of second and third callable object\n",
    "        @param f(callable):\n",
    "            Generate the next value for collection\n",
    "        @param p(callable):\n",
    "            Callable to terminate the process by returning True\n",
    "        '''\n",
    "```\n",
    "\n",
    "Sometimes, you want to apply function to every element in a list, you can use <font color='blue'>forEach</font>:"
   ]
  },
  {
   "cell_type": "code",
   "execution_count": 19,
   "metadata": {},
   "outputs": [
    {
     "name": "stdout",
     "output_type": "stream",
     "text": [
      "10\n",
      "20\n",
      "40\n"
     ]
    }
   ],
   "source": [
    "def mult10(e):\n",
    "    print('{}'.format(e * 10))\n",
    "    \n",
    "fp.CollectionUtils.forEach([1, 2, 4], mult10)"
   ]
  }
 ],
 "metadata": {
  "kernelspec": {
   "display_name": "Python 2",
   "language": "python",
   "name": "python2"
  },
  "language_info": {
   "codemirror_mode": {
    "name": "ipython",
    "version": 2
   },
   "file_extension": ".py",
   "mimetype": "text/x-python",
   "name": "python",
   "nbconvert_exporter": "python",
   "pygments_lexer": "ipython2",
   "version": "2.7.12"
  }
 },
 "nbformat": 4,
 "nbformat_minor": 2
}
