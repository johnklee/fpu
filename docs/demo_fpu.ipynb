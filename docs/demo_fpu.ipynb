{
 "cells": [
  {
   "cell_type": "markdown",
   "id": "bd2a2e19-6033-4176-b893-520a5a5c71a6",
   "metadata": {},
   "source": [
    "## <font color='darkblue'><b>Demo</b></font>"
   ]
  },
  {
   "cell_type": "code",
   "execution_count": 1,
   "id": "c6bcfa4b-d85c-49ee-a1a1-4884cea75a3e",
   "metadata": {},
   "outputs": [],
   "source": [
    "from fpu.flist import *"
   ]
  },
  {
   "cell_type": "code",
   "execution_count": 11,
   "id": "a878de7f-da91-4ae2-9694-4003a117a531",
   "metadata": {},
   "outputs": [],
   "source": [
    "fd = fl([1, 2, 3]).append(4)"
   ]
  },
  {
   "cell_type": "code",
   "execution_count": 12,
   "id": "baaa9257-d93a-4e6a-b0f1-cca726c38202",
   "metadata": {},
   "outputs": [
    {
     "ename": "AttributeError",
     "evalue": "'NoneType' object has no attribute 'length'",
     "output_type": "error",
     "traceback": [
      "\u001b[0;31m---------------------------------------------------------------------------\u001b[0m",
      "\u001b[0;31mAttributeError\u001b[0m                            Traceback (most recent call last)",
      "Cell \u001b[0;32mIn[12], line 1\u001b[0m\n\u001b[0;32m----> 1\u001b[0m \u001b[43mfd\u001b[49m\u001b[38;5;241;43m.\u001b[39;49m\u001b[43mlength\u001b[49m()\n",
      "\u001b[0;31mAttributeError\u001b[0m: 'NoneType' object has no attribute 'length'"
     ]
    }
   ],
   "source": [
    "fd.length()"
   ]
  }
 ],
 "metadata": {
  "kernelspec": {
   "display_name": "Python 3 (ipykernel)",
   "language": "python",
   "name": "python3"
  },
  "language_info": {
   "codemirror_mode": {
    "name": "ipython",
    "version": 3
   },
   "file_extension": ".py",
   "mimetype": "text/x-python",
   "name": "python",
   "nbconvert_exporter": "python",
   "pygments_lexer": "ipython3",
   "version": "3.11.4"
  }
 },
 "nbformat": 4,
 "nbformat_minor": 5
}
