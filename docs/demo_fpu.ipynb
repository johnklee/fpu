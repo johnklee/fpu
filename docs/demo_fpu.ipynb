{
 "cells": [
  {
   "cell_type": "markdown",
   "id": "bd2a2e19-6033-4176-b893-520a5a5c71a6",
   "metadata": {},
   "source": [
    "## <font color='darkblue'><b>Demo</b></font>"
   ]
  },
  {
   "cell_type": "code",
   "execution_count": 15,
   "id": "c6bcfa4b-d85c-49ee-a1a1-4884cea75a3e",
   "metadata": {},
   "outputs": [],
   "source": [
    "from fpu.flist import *"
   ]
  },
  {
   "cell_type": "code",
   "execution_count": 21,
   "id": "a878de7f-da91-4ae2-9694-4003a117a531",
   "metadata": {},
   "outputs": [],
   "source": [
    "fd = fl(*[1, 2, 3])"
   ]
  },
  {
   "cell_type": "code",
   "execution_count": 22,
   "id": "baaa9257-d93a-4e6a-b0f1-cca726c38202",
   "metadata": {},
   "outputs": [
    {
     "data": {
      "text/plain": [
       "3"
      ]
     },
     "execution_count": 22,
     "metadata": {},
     "output_type": "execute_result"
    }
   ],
   "source": [
    "fd.length()"
   ]
  },
  {
   "cell_type": "code",
   "execution_count": 23,
   "id": "2d9dba9e-6f5d-4aef-9015-05149a86dc85",
   "metadata": {},
   "outputs": [
    {
     "name": "stdout",
     "output_type": "stream",
     "text": [
      "1\n",
      "2\n",
      "3\n"
     ]
    }
   ],
   "source": [
    "for e in fd:\n",
    "    print(e)"
   ]
  }
 ],
 "metadata": {
  "kernelspec": {
   "display_name": "Python 3 (ipykernel)",
   "language": "python",
   "name": "python3"
  },
  "language_info": {
   "codemirror_mode": {
    "name": "ipython",
    "version": 3
   },
   "file_extension": ".py",
   "mimetype": "text/x-python",
   "name": "python",
   "nbconvert_exporter": "python",
   "pygments_lexer": "ipython3",
   "version": "3.11.4"
  }
 },
 "nbformat": 4,
 "nbformat_minor": 5
}
